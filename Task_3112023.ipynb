{
 "cells": [
  {
   "cell_type": "markdown",
   "id": "77c93009",
   "metadata": {},
   "source": [
    "# Sameera\n",
    "1. Create a function that takes an array of values resistance that are connected in series, and calculates the total resistance of the circuit in ohms. The ohm is the standard unit of electrical resistance in the International System of Units ( SI )."
   ]
  },
  {
   "cell_type": "code",
   "execution_count": 33,
   "id": "87fbebd9",
   "metadata": {},
   "outputs": [
    {
     "name": "stdout",
     "output_type": "stream",
     "text": [
      "total resistance: 60 ohm\n"
     ]
    }
   ],
   "source": [
    "#While loop\n",
    "r = [10,20,30]\n",
    "total = 0\n",
    "i = 0\n",
    "while i < len(r):\n",
    "    total+=r[i]\n",
    "    i+= 1\n",
    "print (\"total resistance:\",total,\"ohm\")\n",
    "    "
   ]
  },
  {
   "cell_type": "code",
   "execution_count": 1,
   "id": "16ac6e40",
   "metadata": {},
   "outputs": [
    {
     "name": "stdout",
     "output_type": "stream",
     "text": [
      "60 in ohms\n"
     ]
    }
   ],
   "source": [
    "# for loop\n",
    "resistance = [10, 20, 30]\n",
    "total= 0\n",
    "for r in resistance:\n",
    "    total += r\n",
    "print(f\"{total} in ohms\")    "
   ]
  },
  {
   "cell_type": "markdown",
   "id": "a1de49d9",
   "metadata": {},
   "source": [
    "2.Create a function which concatenates the number 7 to the end of every chord in a list. Ignore all chords which already end with 7.\n"
   ]
  },
  {
   "cell_type": "code",
   "execution_count": 2,
   "id": "7ceafdbf",
   "metadata": {},
   "outputs": [
    {
     "name": "stdout",
     "output_type": "stream",
     "text": [
      "['CM7', 'DM7', 'EM7', 'HM7']\n"
     ]
    }
   ],
   "source": [
    "chords = ['CM', 'DM', 'EM', 'HM']\n",
    "x = 0\n",
    "while x < len(chords):\n",
    "    if not chords[x].endswith('7'):\n",
    "        chords[x]+= '7'\n",
    "    x = x + 1\n",
    "print(chords)"
   ]
  },
  {
   "cell_type": "code",
   "execution_count": 4,
   "id": "3624844d",
   "metadata": {},
   "outputs": [
    {
     "name": "stdout",
     "output_type": "stream",
     "text": [
      "['cm7', 'dm7', 'em7', 'hm7']\n"
     ]
    }
   ],
   "source": [
    "chords = ['cm', 'dm', 'em', 'hm']\n",
    "for i in range(len(chords)):\n",
    "    if not chords[i].endswith(\"7\"):\n",
    "        chords[i] = chords[i] + '7'\n",
    "print(chords)\n"
   ]
  },
  {
   "cell_type": "markdown",
   "id": "f506f5a5",
   "metadata": {},
   "source": [
    "3. Create a function that returns a base-2 (binary) representation of a base-10 (decimal) string number. To convert is simple: ((2) means base-2 and (10) means base-10) 010101001(2) = 1 + 8 + 32 + 128.\n",
    "\n",
    "   Going from right to left, the value of the most right bit is 1, now from that every bit to the left will be x2 the value, value of an 8 bit binary numbers are (256, 128, 64, 32, 16, 8, 4, 2, 1)."
   ]
  },
  {
   "cell_type": "markdown",
   "id": "17105ffe",
   "metadata": {},
   "source": [
    "4. Create a function that takes a string and returns the number (count) of vowels contained within it."
   ]
  },
  {
   "cell_type": "code",
   "execution_count": 5,
   "id": "e32a169f",
   "metadata": {},
   "outputs": [
    {
     "name": "stdout",
     "output_type": "stream",
     "text": [
      "please enter the string :i am a good girl\n",
      "the number of vowels in the string 6\n"
     ]
    }
   ],
   "source": [
    "#using while\n",
    "string=input(\"please enter the string :\")\n",
    "vowel_count=0\n",
    "x=0\n",
    "vowels='aeiouAEIOU'\n",
    "while x<len(string):\n",
    "    if string[x] in vowels:\n",
    "        vowel_count+=1\n",
    "    x+=1\n",
    "print(\"the number of vowels in the string\",vowel_count)    "
   ]
  },
  {
   "cell_type": "code",
   "execution_count": 7,
   "id": "bd11e455",
   "metadata": {},
   "outputs": [
    {
     "name": "stdout",
     "output_type": "stream",
     "text": [
      "please enter the string:i am a good girl\n",
      "The number of vowels in the string is 6\n"
     ]
    }
   ],
   "source": [
    "#using for \n",
    "string = input(\"please enter the string:\")\n",
    "vowel_count = 0\n",
    "vowels = \"aeiouAEIOU\"\n",
    "for i in string:\n",
    "    if i in vowels:\n",
    "        vowel_count = vowel_count + 1\n",
    "print(\"The number of vowels in the string is\", vowel_count)"
   ]
  },
  {
   "cell_type": "markdown",
   "id": "31dd2b9c",
   "metadata": {},
   "source": [
    "5. Create a function that takes a list and finds the integer which appears an odd number of times."
   ]
  },
  {
   "cell_type": "code",
   "execution_count": 11,
   "id": "b9eb59b3",
   "metadata": {},
   "outputs": [
    {
     "name": "stdout",
     "output_type": "stream",
     "text": [
      "The integer that appears an odd number of times is: 3\n"
     ]
    }
   ],
   "source": [
    "#using while\n",
    "my_list = [4, 3, 2, 3, 1, 4, 2, 4, 1]\n",
    "while len(my_list) > 0:\n",
    "    element = my_list[0]\n",
    "    count = my_list.count(element)\n",
    "    print(f\"The integer that appears an odd number of times is: {count}\")\n",
    "    break"
   ]
  },
  {
   "cell_type": "code",
   "execution_count": 19,
   "id": "11db8389",
   "metadata": {},
   "outputs": [
    {
     "name": "stdout",
     "output_type": "stream",
     "text": [
      "the integer that appers odd number of times is :5\n"
     ]
    }
   ],
   "source": [
    "#using for\n",
    "my_list = [5, 3, 2, 3, 1, 5, 2, 5, 1]\n",
    "count={}\n",
    "for i in my_list:\n",
    "    if i in count:\n",
    "        count[i]+=1\n",
    "    else:\n",
    "        count[i]=1\n",
    "result=None\n",
    "for x,y in count.items():\n",
    "    if y%2!=0:\n",
    "        result=x\n",
    "        break\n",
    "print(f'the integer that appers odd number of times is :{result}')        "
   ]
  },
  {
   "cell_type": "markdown",
   "id": "f786225f",
   "metadata": {},
   "source": [
    "6. Create a function that computes the hamming distance between two strings."
   ]
  },
  {
   "cell_type": "code",
   "execution_count": 11,
   "id": "8863b662",
   "metadata": {},
   "outputs": [
    {
     "name": "stdout",
     "output_type": "stream",
     "text": [
      "The Hamming distance between 'Sam' and 'San' is 1\n"
     ]
    }
   ],
   "source": [
    "#while loop\n",
    "str1 = \"Sam\"\n",
    "str2 = \"San\"\n",
    "distance = 0\n",
    "i = 0\n",
    "while i < len(str1):\n",
    "    if string1[i] != string2[i]:\n",
    "        distance = distance + 1\n",
    "    i = i + 1\n",
    "print(f\"The Hamming distance between '{str1}' and '{str2}' is {distance}\")\n"
   ]
  },
  {
   "cell_type": "code",
   "execution_count": 10,
   "id": "d9c90ecd",
   "metadata": {},
   "outputs": [
    {
     "name": "stdout",
     "output_type": "stream",
     "text": [
      "The Hamming distance between 'Sam' and 'San' is 1\n"
     ]
    }
   ],
   "source": [
    "#for loop\n",
    "string1 = \"Sam\"\n",
    "string2 = \"San\"\n",
    "distance = 0\n",
    "for i in range(len(string1)):\n",
    "    if string1[i] != string2[i]:\n",
    "        distance = distance + 1\n",
    "print(f\"The Hamming distance between '{str1}' and '{str2}' is {distance}\")"
   ]
  },
  {
   "cell_type": "markdown",
   "id": "6d4de9e7",
   "metadata": {},
   "source": [
    "7. Create a function that takes a list of non-negative integers and strings and return a new list without the strings.\n"
   ]
  },
  {
   "cell_type": "code",
   "execution_count": 12,
   "id": "82b9bfe8",
   "metadata": {},
   "outputs": [
    {
     "name": "stdout",
     "output_type": "stream",
     "text": [
      "['Sameera', 'Ramya']\n"
     ]
    }
   ],
   "source": [
    "#while loop\n",
    "array = [1, 2, \"Sameera\", \"Ramya\"]\n",
    "new_array = []\n",
    "i = 0\n",
    "while i < len(array):\n",
    "    if isinstance(array[i], str):\n",
    "        new_array.append(array[i])\n",
    "    i += 1\n",
    "print(new_array)"
   ]
  },
  {
   "cell_type": "code",
   "execution_count": 15,
   "id": "6211e3ed",
   "metadata": {},
   "outputs": [
    {
     "name": "stdout",
     "output_type": "stream",
     "text": [
      "['Sameera', 'Ramya']\n"
     ]
    }
   ],
   "source": [
    "#for loop\n",
    "array = [1, 2, \"Sameera\", \"Ramya\"]\n",
    "new_array = []\n",
    "for x in array:\n",
    "    if isinstance(x, str):\n",
    "        new_array.append(x)\n",
    "print(new_array)"
   ]
  },
  {
   "cell_type": "markdown",
   "id": "0a13697a",
   "metadata": {},
   "source": [
    "8. Create a function that takes a list of strings and integers, and filters out the list so that it returns a list of integers only."
   ]
  },
  {
   "cell_type": "code",
   "execution_count": 18,
   "id": "1562db62",
   "metadata": {},
   "outputs": [
    {
     "name": "stdout",
     "output_type": "stream",
     "text": [
      "[1, 2, 3]\n"
     ]
    }
   ],
   "source": [
    "#while loop\n",
    "frnds_list = [1, 'Sameera','a', 2, 'saniya', 3, 'saira']\n",
    "x = 0\n",
    "integers_only = []\n",
    "while x < len(frnds_list):\n",
    "    if isinstance(frnds_list[x], int):\n",
    "        integers_only.append(frnds_list[x])\n",
    "    x = x + 1\n",
    "print(integers_only)"
   ]
  },
  {
   "cell_type": "code",
   "execution_count": 20,
   "id": "e840e146",
   "metadata": {},
   "outputs": [
    {
     "name": "stdout",
     "output_type": "stream",
     "text": [
      "[1, 2, 3]\n"
     ]
    }
   ],
   "source": [
    "#for loop\n",
    "frnds_list = [1, 'Sameera','a', 2, 'saniya', 3, 'saira']\n",
    "num_list = []\n",
    "for item in frnds_list:\n",
    "    if isinstance(item, int):\n",
    "        num_list.append(item)\n",
    "print(num_list)"
   ]
  },
  {
   "cell_type": "markdown",
   "id": "5ee66bb9",
   "metadata": {},
   "source": [
    "9. Create a function that counts the number and returns it from the list of cards provided "
   ]
  },
  {
   "cell_type": "code",
   "execution_count": 21,
   "id": "715424e5",
   "metadata": {},
   "outputs": [
    {
     "name": "stdout",
     "output_type": "stream",
     "text": [
      "Number of cards: 8\n"
     ]
    }
   ],
   "source": [
    "#while loop\n",
    "cards = [2, 'J', 7, 'K', 'Q', 'A', 5, 4]\n",
    "count = 0\n",
    "x = 0\n",
    "while x < len(cards):\n",
    "    count += 1\n",
    "    x += 1\n",
    "print(\"Number of cards:\", count)"
   ]
  },
  {
   "cell_type": "code",
   "execution_count": 22,
   "id": "bad26653",
   "metadata": {},
   "outputs": [
    {
     "name": "stdout",
     "output_type": "stream",
     "text": [
      "8\n"
     ]
    }
   ],
   "source": [
    "#for loop\n",
    "cards = [2, 'J', 7, 'K', 'Q', 'A', 5, 4]\n",
    "count = 0\n",
    "for x in cards:\n",
    "    count += 1\n",
    "print(count)"
   ]
  },
  {
   "cell_type": "markdown",
   "id": "b6d4e30c",
   "metadata": {},
   "source": [
    "10. Create a function that takes a list of strings and integers, and filters out the list so that it returns a list of String only.\n"
   ]
  },
  {
   "cell_type": "code",
   "execution_count": 24,
   "id": "9e94a344",
   "metadata": {},
   "outputs": [
    {
     "name": "stdout",
     "output_type": "stream",
     "text": [
      "['S', 'S', 'M']\n"
     ]
    }
   ],
   "source": [
    "#while loop\n",
    "frnds_list = [1, 'S', 2, 'S', 3, 'M']\n",
    "x = 0\n",
    "integers_only = []\n",
    "while x < len(frnds_list):\n",
    "    if isinstance(frnds_list[x], str):\n",
    "        integers_only.append(frnds_list[x])\n",
    "    x = x + 1\n",
    "print(integers_only)"
   ]
  },
  {
   "cell_type": "code",
   "execution_count": 25,
   "id": "e7d8e0ad",
   "metadata": {},
   "outputs": [
    {
     "name": "stdout",
     "output_type": "stream",
     "text": [
      "['M', 'M', 'S']\n"
     ]
    }
   ],
   "source": [
    "#for loop\n",
    "frnds_list = [1, 'M', 2, 'M', 3, 'S']\n",
    "num_list = []\n",
    "for item in frnds_list:\n",
    "    if isinstance(item, str):\n",
    "        num_list.append(item)\n",
    "print(num_list)"
   ]
  },
  {
   "cell_type": "markdown",
   "id": "9485761b",
   "metadata": {},
   "source": [
    "12. Given a list of numbers, write a function that returns a list that...\n",
    "    Has all duplicate elements removed.\n",
    "    Is sorted from least to greatest value."
   ]
  },
  {
   "cell_type": "code",
   "execution_count": 27,
   "id": "d11ccf29",
   "metadata": {},
   "outputs": [
    {
     "name": "stdout",
     "output_type": "stream",
     "text": [
      "[2, 4, 5, 6, 8, 9]\n"
     ]
    }
   ],
   "source": [
    "#while loop\n",
    "numbers = [2,5,6,4,2,4,6,8,9,5,8]\n",
    "unique_list = []\n",
    "i = 0\n",
    "while i < len(numbers):\n",
    "    if numbers[i] not in unique_list:\n",
    "        unique_list.append(numbers[i])\n",
    "    i += 1\n",
    "n = len(unique_list)\n",
    "while n > 1:\n",
    "    new_n = 0\n",
    "    for i in range(1, n):\n",
    "        if unique_list[i - 1] > unique_list[i]:\n",
    "            unique_list[i - 1], unique_list[i] = unique_list[i], unique_list[i - 1]\n",
    "            new_n = i\n",
    "    n = new_n\n",
    "print(unique_list)"
   ]
  },
  {
   "cell_type": "code",
   "execution_count": 26,
   "id": "22309738",
   "metadata": {},
   "outputs": [
    {
     "name": "stdout",
     "output_type": "stream",
     "text": [
      "[2, 4, 5, 6, 8, 9]\n"
     ]
    }
   ],
   "source": [
    "#for loop\n",
    "numbers = [2,5,6,4,2,4,6,8,9,5,8]\n",
    "unique_list = list(set(numbers))\n",
    "for i in range(len(unique_list)):\n",
    "    for j in range(0, len(unique_list) - i - 1):\n",
    "        if unique_list[j] > unique_list[j + 1]:\n",
    "            unique_list[j], unique_list[j + 1] = unique_list[j + 1], unique_list[j]\n",
    "print(unique_list)"
   ]
  },
  {
   "cell_type": "markdown",
   "id": "b3e47d98",
   "metadata": {},
   "source": [
    "13. Create a function that sorts a list and removes all duplicate items from it."
   ]
  },
  {
   "cell_type": "code",
   "execution_count": null,
   "id": "5711c462",
   "metadata": {},
   "outputs": [],
   "source": [
    "#while loop\n",
    "numbers = [2,5,6,4,2,4,6,8,9,5,8]\n",
    "numbers.sort()\n",
    "i = 0\n",
    "while i < len(numbers) - 1:\n",
    "    if numbers[i] == numbers[i + 1]:\n",
    "        del numbers[i]\n",
    "    else:\n",
    "        i += 1\n",
    "print(numbers)"
   ]
  },
  {
   "cell_type": "code",
   "execution_count": null,
   "id": "a0379b0c",
   "metadata": {},
   "outputs": [],
   "source": [
    "#for loop\n",
    "numbers = [2,5,6,4,2,4,6,8,9,5,8]\n",
    "for i in range(len(numbers)):\n",
    "    for j in range(0, len(numbers)-i-1):\n",
    "        if numbers[j] > numbers[j+1]:\n",
    "            numbers[j], numbers[j+1] = numbers[j+1], numbers[j]\n",
    "unique_list = []\n",
    "for num in numbers:\n",
    "    if num not in unique_list:\n",
    "        unique_list.append(num)\n",
    "print(unique_list)"
   ]
  },
  {
   "cell_type": "markdown",
   "id": "e5204f23",
   "metadata": {},
   "source": [
    "14. Create a function that takes a dictionary of student names and returns a list of student names in alphabetical order."
   ]
  },
  {
   "cell_type": "code",
   "execution_count": 28,
   "id": "951d4cfa",
   "metadata": {},
   "outputs": [
    {
     "name": "stdout",
     "output_type": "stream",
     "text": [
      "['sameera', 'saniya', 'sari']\n"
     ]
    }
   ],
   "source": [
    "students = {\n",
    "    3: 'sameera',\n",
    "    1: 'saniya',\n",
    "    2: 'sari',\n",
    "}\n",
    "names = []\n",
    "while students:\n",
    "    min_key = min(students.keys())\n",
    "    names.append(students.pop(min_key))\n",
    "    names.sort()\n",
    "print(names)"
   ]
  },
  {
   "cell_type": "code",
   "execution_count": 29,
   "id": "5300ce9f",
   "metadata": {},
   "outputs": [
    {
     "name": "stdout",
     "output_type": "stream",
     "text": [
      "['sameera', 'saniya', 'sari']\n"
     ]
    }
   ],
   "source": [
    "students = {\n",
    "     'sameera' : 3,\n",
    "     'saniya': 1,\n",
    "     'sari': 2,\n",
    "}\n",
    "names = list(students.keys())\n",
    "for i in range(len(names)):\n",
    "    for j in range(i + 1, len(names)):\n",
    "        if names[i] > names[j]:\n",
    "            names[i], names[j] = names[j], names[i]\n",
    "print(names)\n"
   ]
  },
  {
   "cell_type": "markdown",
   "id": "479f57be",
   "metadata": {},
   "source": [
    "15. Take a list of names.\n",
    "    Add \"Hello\" to every name.\n",
    "    Make one big string with all greetings.\n",
    "    The solution should be one string with a comma in between every \"Hello (Name)\".\n"
   ]
  },
  {
   "cell_type": "code",
   "execution_count": 32,
   "id": "c774c9f1",
   "metadata": {},
   "outputs": [
    {
     "name": "stdout",
     "output_type": "stream",
     "text": [
      "Hello sameera!, Hello saniya!, Hello Sari!\n"
     ]
    }
   ],
   "source": [
    "#while loop\n",
    "names = ['sameera', 'saniya', 'Sari']\n",
    "greetings = \"\"\n",
    "x = 0\n",
    "while x < len(names):\n",
    "    greetings += \"Hello \" + names[x]+'!'\n",
    "    if x < len(names) - 1:\n",
    "        greetings += \", \"\n",
    "    x += 1\n",
    "print(greetings)"
   ]
  },
  {
   "cell_type": "code",
   "execution_count": 35,
   "id": "5a3b41f3",
   "metadata": {},
   "outputs": [
    {
     "name": "stdout",
     "output_type": "stream",
     "text": [
      "Hello sameera,! Hello saniya,! Hello sari,! Hello meera,\n"
     ]
    }
   ],
   "source": [
    "#for loop\n",
    "names = ['sameera', 'saniya', 'sari','meera']\n",
    "greetings = \"\"\n",
    "for name in names:\n",
    "    greetings += f\"Hello {name},! \"\n",
    "greetings = greetings[:-2]\n",
    "print(greetings)"
   ]
  },
  {
   "cell_type": "markdown",
   "id": "789fba00",
   "metadata": {},
   "source": [
    "16. Create a function that returns the mean of all digits."
   ]
  },
  {
   "cell_type": "code",
   "execution_count": 36,
   "id": "c96db424",
   "metadata": {},
   "outputs": [
    {
     "name": "stdout",
     "output_type": "stream",
     "text": [
      "Mean of the digits: 6.5\n"
     ]
    }
   ],
   "source": [
    "#while loop\n",
    "number = 458976\n",
    "total = 0\n",
    "count = 0\n",
    "while number > 0:\n",
    "    digit = number % 10\n",
    "    total += digit\n",
    "    count += 1\n",
    "    number = number // 10\n",
    "mean = total / count\n",
    "print(\"Mean of the digits:\", mean)"
   ]
  },
  {
   "cell_type": "code",
   "execution_count": 38,
   "id": "752504a2",
   "metadata": {},
   "outputs": [
    {
     "name": "stdout",
     "output_type": "stream",
     "text": [
      "Mean: 6.5\n"
     ]
    }
   ],
   "source": [
    "#for loop\n",
    "numbers = [4,5,8,9,7,6]\n",
    "total = 0\n",
    "count = 0\n",
    "for number in numbers:\n",
    "    total += number\n",
    "    count += 1\n",
    "mean = total / count\n",
    "print(\"Mean:\", mean)"
   ]
  },
  {
   "cell_type": "markdown",
   "id": "29629a9c",
   "metadata": {},
   "source": [
    "17. Create a function which returns a list of booleans, from a given number. Iterating through the number one digit at a time, append True if the digit is 1 and False if it is 0."
   ]
  },
  {
   "cell_type": "code",
   "execution_count": 39,
   "id": "cefa61db",
   "metadata": {},
   "outputs": [
    {
     "name": "stdout",
     "output_type": "stream",
     "text": [
      "[True, True, True, False, False, False, False, True, True, True, False, True, False, True, False, False, False, False, True]\n"
     ]
    }
   ],
   "source": [
    "number = 1110000111010100001\n",
    "bool_list = []\n",
    "while number > 0:\n",
    "    digit = number % 10\n",
    "    if digit == 1:\n",
    "        bool_list.append(True)\n",
    "    else:\n",
    "        bool_list.append(False)\n",
    "    number //= 10\n",
    "bool_list.reverse()\n",
    "print(bool_list)"
   ]
  },
  {
   "cell_type": "code",
   "execution_count": 40,
   "id": "89d9a421",
   "metadata": {},
   "outputs": [
    {
     "name": "stdout",
     "output_type": "stream",
     "text": [
      "[True]\n",
      "[True]\n",
      "[True]\n",
      "[False]\n",
      "[False]\n",
      "[False]\n",
      "[True]\n",
      "[True]\n",
      "[True]\n",
      "[False]\n"
     ]
    }
   ],
   "source": [
    "number = 1110001110\n",
    "for digit in str(number):\n",
    "    result = [digit == '1']\n",
    "    print(result)"
   ]
  },
  {
   "cell_type": "markdown",
   "id": "5a3f9337",
   "metadata": {},
   "source": [
    "18. Create a function that takes two numbers as arguments (num, length) and returns a list of multiples of num until the list length reaches length."
   ]
  },
  {
   "cell_type": "code",
   "execution_count": 41,
   "id": "18472d49",
   "metadata": {},
   "outputs": [
    {
     "name": "stdout",
     "output_type": "stream",
     "text": [
      "[12, 24, 36, 48, 60, 72]\n"
     ]
    }
   ],
   "source": [
    "num = 12\n",
    "length = 6\n",
    "multiples = []\n",
    "x = 0\n",
    "while len(multiples) < length:\n",
    "    multiples.append(num * (x + 1))\n",
    "    x += 1\n",
    "print(multiples)"
   ]
  },
  {
   "cell_type": "code",
   "execution_count": 42,
   "id": "3357a367",
   "metadata": {},
   "outputs": [
    {
     "name": "stdout",
     "output_type": "stream",
     "text": [
      "[12, 24, 36, 48, 60, 72]\n"
     ]
    }
   ],
   "source": [
    "num = 12\n",
    "length = 6\n",
    "multiples = []\n",
    "for i in range(1, length + 1):\n",
    "    multiples.append(num * i)\n",
    "print(multiples)"
   ]
  },
  {
   "cell_type": "markdown",
   "id": "d8e4ba8a",
   "metadata": {},
   "source": [
    "19. Write a function that accepts the height and width (m, n) and an optional proc s and generates a list with m elements. Each element is a string consisting of either:\n",
    "     The default character (hash #) repeating n times (if no proc is given). The character passed in through the proc repeating       n times"
   ]
  },
  {
   "cell_type": "code",
   "execution_count": 43,
   "id": "cc037dda",
   "metadata": {},
   "outputs": [
    {
     "name": "stdout",
     "output_type": "stream",
     "text": [
      "['♠♠', '♠♠', '♠♠', '♠♠', '♠♠', '♠♠', '♠♠']\n"
     ]
    }
   ],
   "source": [
    "m = 7  # height\n",
    "n = 2  # width\n",
    "Spcl_sym = '♠'\n",
    "result = []\n",
    "while m > 0:\n",
    "    if Spcl_sym:\n",
    "        result.append(Spcl_sym * n)\n",
    "    else:\n",
    "        result.append('#' * n)\n",
    "    m -= 1\n",
    "print(result)"
   ]
  },
  {
   "cell_type": "code",
   "execution_count": 47,
   "id": "f9d0e5d6",
   "metadata": {},
   "outputs": [
    {
     "name": "stdout",
     "output_type": "stream",
     "text": [
      "['♠♠']\n",
      "['♠♠']\n",
      "['♠♠']\n",
      "['♠♠']\n",
      "['♠♠']\n",
      "['♠♠']\n",
      "['♠♠']\n"
     ]
    }
   ],
   "source": [
    "m = 7  # height\n",
    "n = 2  # width\n",
    "s = '♠'  \n",
    "for i in range(m):\n",
    "    result = [s * n]\n",
    "    print(result)"
   ]
  },
  {
   "cell_type": "markdown",
   "id": "b5be5a0c",
   "metadata": {},
   "source": [
    "20. In each input list, every number repeats at least once, except for two. Write a function that returns the two unique numbers.\n"
   ]
  },
  {
   "cell_type": "code",
   "execution_count": 59,
   "id": "a3b92892",
   "metadata": {},
   "outputs": [
    {
     "name": "stdout",
     "output_type": "stream",
     "text": [
      "The two unique numbers are: [6, 1]\n"
     ]
    }
   ],
   "source": [
    "input_list = [2,4,5,2,4,2,4,5,6,4,1,2]\n",
    "unique_numbers = []\n",
    "while len(input_list) > 0:\n",
    "    num = input_list.pop(0)\n",
    "    if num in unique_numbers:\n",
    "        unique_numbers.remove(num)\n",
    "    else:\n",
    "        unique_numbers.append(num)\n",
    "if len(unique_numbers) == 2:\n",
    "    print(\"The two unique numbers are:\", unique_numbers)"
   ]
  },
  {
   "cell_type": "code",
   "execution_count": 57,
   "id": "bf4d16bc",
   "metadata": {},
   "outputs": [
    {
     "name": "stdout",
     "output_type": "stream",
     "text": [
      "The two unique numbers are: [6, 1]\n"
     ]
    }
   ],
   "source": [
    "input_list = [2,4,5,2,4,2,4,5,6,4,1,2,8,0]\n",
    "input_length = len(input_list)\n",
    "unique_numbers = []\n",
    "for i in range(input_length):\n",
    "    if input_list.count(input_list[i]) == 1:\n",
    "        unique_numbers.append(input_list[i])\n",
    "        if len(unique_numbers) == 2:\n",
    "            break\n",
    "print(\"The two unique numbers are:\", unique_numbers)"
   ]
  },
  {
   "cell_type": "markdown",
   "id": "53e91b9d",
   "metadata": {},
   "source": [
    "21. A number is said to be Harshad if it's exactly divisible by the sum of its digits. Create a function that determines whether a number is a Harshad or not."
   ]
  },
  {
   "cell_type": "code",
   "execution_count": 61,
   "id": "cd682252",
   "metadata": {},
   "outputs": [
    {
     "name": "stdout",
     "output_type": "stream",
     "text": [
      "41 is not a shashi number\n"
     ]
    }
   ],
   "source": [
    "num = 41\n",
    "original_num = num\n",
    "sum_of_digits = 0\n",
    "while num > 0:\n",
    "    sum_of_digits += num % 10\n",
    "    num //= 10\n",
    "if original_num % sum_of_digits == 0:\n",
    "    print(f\"{original_num} is a shashi number\")\n",
    "else:\n",
    "    print(f\"{original_num} is not a shashi number\")"
   ]
  },
  {
   "cell_type": "code",
   "execution_count": 62,
   "id": "2d83bc17",
   "metadata": {},
   "outputs": [
    {
     "name": "stdout",
     "output_type": "stream",
     "text": [
      "18 is a Harshad number\n"
     ]
    }
   ],
   "source": [
    "number = 18\n",
    "num_str = str(number)\n",
    "sum_of_digits = 0\n",
    "for digit in num_str:\n",
    "    sum_of_digits += int(digit)\n",
    "if number % sum_of_digits == 0:\n",
    "    print(f\"{number} is a shashi number\")\n",
    "else:\n",
    "    print(f\"{number} is not a shashi number\")"
   ]
  },
  {
   "cell_type": "markdown",
   "id": "f6ea7508",
   "metadata": {},
   "source": [
    "22. Create a function that takes in a list of miles run every Saturday and returns Johnny's total number of progress days.\n"
   ]
  },
  {
   "cell_type": "code",
   "execution_count": 63,
   "id": "684ff530",
   "metadata": {},
   "outputs": [
    {
     "name": "stdout",
     "output_type": "stream",
     "text": [
      "Johnny's total number of progress days: 5\n"
     ]
    }
   ],
   "source": [
    "miles_run = [2,1,2,4,5,6,4,7]\n",
    "progress_days = 0\n",
    "x = 1\n",
    "while x < len(miles_run):\n",
    "    if miles_run[x] > miles_run[x - 1]:\n",
    "        progress_days += 1\n",
    "    x += 1\n",
    "print(\"Johnny's total number of progress days:\", progress_days)"
   ]
  },
  {
   "cell_type": "code",
   "execution_count": 64,
   "id": "ba5058c4",
   "metadata": {},
   "outputs": [
    {
     "name": "stdout",
     "output_type": "stream",
     "text": [
      "Total number of progress days: 5\n"
     ]
    }
   ],
   "source": [
    "miles_run = [2,1,2,4,5,6,4,7]\n",
    "progress_days = 0\n",
    "for i in range(1, len(miles_run)):\n",
    "    if miles_run[i] > miles_run[i - 1]:\n",
    "        progress_days += 1\n",
    "print(\"Total number of progress days:\", progress_days)"
   ]
  },
  {
   "cell_type": "markdown",
   "id": "52e3f32b",
   "metadata": {},
   "source": [
    "23. Create a function that takes an integer and outputs an n x n square solely consisting of the integer n."
   ]
  },
  {
   "cell_type": "code",
   "execution_count": 65,
   "id": "4065a6c1",
   "metadata": {},
   "outputs": [
    {
     "name": "stdout",
     "output_type": "stream",
     "text": [
      "55555\n",
      "55555\n",
      "55555\n",
      "55555\n",
      "55555\n"
     ]
    }
   ],
   "source": [
    "n = 5\n",
    "i = 0\n",
    "while i < n:\n",
    "    print(str(n) * n)\n",
    "    i += 1"
   ]
  },
  {
   "cell_type": "code",
   "execution_count": 66,
   "id": "a519f9d8",
   "metadata": {},
   "outputs": [
    {
     "name": "stdout",
     "output_type": "stream",
     "text": [
      "333\n",
      "333\n",
      "333\n"
     ]
    }
   ],
   "source": [
    "n = 3\n",
    "for i in range(n):\n",
    "    row = [str(n) for _ in range(n)]\n",
    "    print(''.join(row))"
   ]
  },
  {
   "cell_type": "markdown",
   "id": "6e97c478",
   "metadata": {},
   "source": [
    "24. The iterated square root of a number is the number of times the square root function must be applied to bring the number strictly under 2.\n",
    "     Given an integer, return its iterated square root. Return \"invalid\" if it is negative"
   ]
  },
  {
   "cell_type": "code",
   "execution_count": 67,
   "id": "40898372",
   "metadata": {},
   "outputs": [
    {
     "name": "stdout",
     "output_type": "stream",
     "text": [
      "3\n"
     ]
    }
   ],
   "source": [
    "number = 27\n",
    "if number < 0:\n",
    "    result = \"invalid\"\n",
    "else:\n",
    "    count = 0\n",
    "    while number >= 2:\n",
    "        number = number ** 0.5\n",
    "        count += 1\n",
    "    result = count\n",
    "print(result)"
   ]
  },
  {
   "cell_type": "code",
   "execution_count": 68,
   "id": "2e1a793e",
   "metadata": {},
   "outputs": [
    {
     "name": "stdout",
     "output_type": "stream",
     "text": [
      "3\n"
     ]
    }
   ],
   "source": [
    "number = 27\n",
    "if number < 0:\n",
    "    result = \"invalid\"\n",
    "else:\n",
    "    count = 0\n",
    "    for count in range(number):\n",
    "        if number < 2:\n",
    "            break\n",
    "        number = number ** 0.5\n",
    "    else:\n",
    "        count += 1\n",
    "    result = count\n",
    "print(result)\n"
   ]
  },
  {
   "cell_type": "markdown",
   "id": "f01e0ce6",
   "metadata": {},
   "source": [
    "25. create a function that returns the amount of duplicate characters in a string. It will be case sensitive and spaces are included. If there are no duplicates, return 0.\n"
   ]
  },
  {
   "cell_type": "code",
   "execution_count": 69,
   "id": "e2c3912d",
   "metadata": {},
   "outputs": [
    {
     "name": "stdout",
     "output_type": "stream",
     "text": [
      "2\n"
     ]
    }
   ],
   "source": [
    "string = \"Sameera\"\n",
    "count = 0\n",
    "y = set()\n",
    "x = 0\n",
    "while x < len(string):\n",
    "    if string[x] in y:\n",
    "        count += 1\n",
    "    else:\n",
    "        y.add(string[x])\n",
    "    x += 1\n",
    "    result = count\n",
    "print(result)"
   ]
  },
  {
   "cell_type": "code",
   "execution_count": 71,
   "id": "637b0309",
   "metadata": {},
   "outputs": [
    {
     "name": "stdout",
     "output_type": "stream",
     "text": [
      "2\n"
     ]
    }
   ],
   "source": [
    "string = \"Sameera\"\n",
    "count = 0\n",
    "y = set()\n",
    "for x in string:\n",
    "    if x in y and string.count(x) > 1:\n",
    "        count += 1\n",
    "        y.discard(x)\n",
    "    elif string.count(x) > 1:\n",
    "        y.add(x)\n",
    "result = count\n",
    "print(result)"
   ]
  },
  {
   "cell_type": "code",
   "execution_count": null,
   "id": "d50f2f97",
   "metadata": {},
   "outputs": [],
   "source": []
  }
 ],
 "metadata": {
  "kernelspec": {
   "display_name": "Python 3 (ipykernel)",
   "language": "python",
   "name": "python3"
  },
  "language_info": {
   "codemirror_mode": {
    "name": "ipython",
    "version": 3
   },
   "file_extension": ".py",
   "mimetype": "text/x-python",
   "name": "python",
   "nbconvert_exporter": "python",
   "pygments_lexer": "ipython3",
   "version": "3.11.5"
  }
 },
 "nbformat": 4,
 "nbformat_minor": 5
}
