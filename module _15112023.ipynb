{
 "cells": [
  {
   "cell_type": "markdown",
   "id": "b2124062",
   "metadata": {},
   "source": [
    "## Module:\n",
    "* module is something with predefined functions which are part of the modules\n",
    "* .python file is being saved as .py files\n",
    "* multiple options for you -package,alike minded modules combined togethr are called packages.\n",
    "* The Purpose of Modules Concept is that \"To Re-use the functions, global variables and Class Names\" from One Program to another Program provided Both The Programs present in Same Folder\n",
    "* We know that Functions are used for \"Performing Certain Operations and Provides Code Re-Usability within the same Program but not able to provide Code Re-Usability across the programs.\n",
    "*  a module is a file consisting of Python code. It can define functions, classes, and variables, and can also include runnable code. Any Python file can be referenced as a module. A file containing Python code, for example: test.py , is called a module, and its name would be test ."
   ]
  },
  {
   "cell_type": "markdown",
   "id": "8056515c",
   "metadata": {},
   "source": [
    "### Types of Modules:-\n",
    "\n",
    "* In python, having two types of modules. They are\n",
    "1. Pre-Defined Modules\n",
    "2. Programmer Or User Or Custom Defined Modules"
   ]
  },
  {
   "cell_type": "markdown",
   "id": "63fd6a52",
   "metadata": {},
   "source": [
    "1. Pre-Defined Modules\n",
    "* These Modules are already defined by Python Lang Developers and Available in Python Software and Used by all Python Lang Programmers and for dealing with Universal Requirements.\n",
    "##### Examples: functools,sys,math,calendar,re,pickle,threading,csv..etc\n",
    "\n",
    "* Out-of Many Pre-defined Modules, By default One of the pre-defined module called \"builtins\" imported to all python programs and It is called Default imported python Module.\n",
    "2. Programmer OR User OR Custom Defined Module\n",
    "* These Moudles are developed by Python Programmers and avilable in Python Project and Used by Other Members of Same Project for dealing with Common Requirements.\n",
    "### Development of Programmer-Defined Module\n",
    "#### To develop Programmer-Defined Modules, we must use the following steps\n",
    "##### Step-1 : Define Variables (Global variables)\n",
    "##### Step-2: Define Functions \n",
    "##### Step-3: Define Classes\n",
    "* After developing step-1, step-2 and step-3 , we must save on some file name with an extension .py (FileName.py) and it is treated as module name.\n",
    "* Hence Every Python File is treated as Module Name.\n",
    "* When a file name treated as a module name , internally Python execution environment creates a folder automatically on the name of pycache and it contains module name on the name of \"filename.cpython-311.pyc \".\n",
    "#### Number of approaches to re-use Modules\n",
    "* We know that A Module is a collection of variables, Functions and Classes.\n",
    "* To re-use the features(Variable Names, Function Names and Class Names ) of module, we have 2 approaches.They are 1) By using import statement 2) By using from.... import statement.\n",
    "1. By using import statement:\n",
    "   'import' is a keyword\n",
    "* The purpose of import statement is that \"To refer or access the variable names, function names and class names in current program\"\n",
    "* we can use import statement in 4 ways.\n",
    "  Syntax-1: import module name\n",
    "\n",
    "* This syntax imports single module\n",
    "   Syntax-2: import module name1, module name2....Module name-n\n",
    "\n",
    "* This syntax imports multiple modules\n",
    "   Syntax-3: import module name as alias name\n",
    "\n",
    "* This syntax imports single module and aliased with another unique names\n",
    "  Syntax-4: import module name1 as alias name, module name2 as alias... name......module name-n as alias name\n",
    "\n",
    "* This syntax imports multiple modules and aliased with another unique names\n",
    "2. By using from.... import statement.\n",
    "* Here \"from\" \"import\" are the key words\n",
    "* The purpose of from.... import statement is that \" To refer or access the variable names, function names and class names in current program directly without writing module name as alias name of Module name.\"\n",
    "##### we can use from.... import statement in 3 ways.\n",
    "\n",
    "Syntax-1: from module name import Variable Names,Function Names, Class Names\n",
    "\n",
    "* This syntax imports the Variable Names,Function Names, Class Names of a module.\n",
    "Syntax-2: from module name import Variable Names as alias name,Function Names as alias name , Class Names as alias names.\n",
    "\n",
    "* This syntax imports the Variable Names,Function Names, Class Names of a module with Unique alias Names\n",
    "Syntax-3: from module name import *\n",
    "\n",
    "* This syntax imports ALL Variable Names,Function Names, Class Names of a module.\n",
    "* This syntax is not recommmended to use bcoz it imports required Features of Module and also import un-interrested features also imported and leads more main memory space.\n",
    "* =>Hence after importing all the variable names, Function names and class names by using \"from ....import statement\" , we must access variable names, Function names and class names Directly without using Module Names or alias names.\n",
    "\n",
    "* \"import statement\" we can give alias name for module names only but not for Variables Names, Function Names and Class Names. Where as with \"from ... import statement \" we can give alias names for Variables Names, Function Names and Class Names but not for Module Name.\n",
    "\n"
   ]
  }
 ],
 "metadata": {
  "kernelspec": {
   "display_name": "Python 3 (ipykernel)",
   "language": "python",
   "name": "python3"
  },
  "language_info": {
   "codemirror_mode": {
    "name": "ipython",
    "version": 3
   },
   "file_extension": ".py",
   "mimetype": "text/x-python",
   "name": "python",
   "nbconvert_exporter": "python",
   "pygments_lexer": "ipython3",
   "version": "3.11.5"
  }
 },
 "nbformat": 4,
 "nbformat_minor": 5
}
