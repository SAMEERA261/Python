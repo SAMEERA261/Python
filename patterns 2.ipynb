{
 "cells": [
  {
   "cell_type": "code",
   "execution_count": 33,
   "id": "7d5fd235",
   "metadata": {},
   "outputs": [
    {
     "name": "stdout",
     "output_type": "stream",
     "text": [
      "enter row value : 5\n",
      "        ♣ \n",
      "      ♣ ♣ ♣ \n",
      "    ♣ ♣ ♣ ♣ ♣ \n",
      "  ♣ ♣ ♣ ♣ ♣ ♣ ♣ \n",
      "♣ ♣ ♣ ♣ ♣ ♣ ♣ ♣ ♣ \n"
     ]
    }
   ],
   "source": [
    "r = int(input('enter row value : '))\n",
    "def pattern1():\n",
    "    for i in range(r):\n",
    "        for j in range(r-i-1):\n",
    "            print(' ',end = ' ')\n",
    "        for k in range(2*i+1):\n",
    "            print('♣', end = ' ')\n",
    "        print( )\n",
    "pattern1()"
   ]
  },
  {
   "cell_type": "code",
   "execution_count": 3,
   "id": "226014b7",
   "metadata": {},
   "outputs": [
    {
     "name": "stdout",
     "output_type": "stream",
     "text": [
      "enter row values : 5\n",
      "        1 \n",
      "      1 2 3 \n",
      "    1 2 3 4 5 \n",
      "  1 2 3 4 5 6 7 \n",
      "1 2 3 4 5 6 7 8 9 \n"
     ]
    }
   ],
   "source": [
    "r = int(input('enter row values : '))\n",
    "def pattern2():\n",
    "    for i in range(r):\n",
    "        for j in range(r-i-1):\n",
    "            print(' ',end = ' ')\n",
    "        for k in range(2*i+1):\n",
    "            print(int(1+k), end = ' ')\n",
    "        print( )\n",
    "pattern2()"
   ]
  },
  {
   "cell_type": "code",
   "execution_count": 11,
   "id": "ffda8869",
   "metadata": {},
   "outputs": [
    {
     "name": "stdout",
     "output_type": "stream",
     "text": [
      "enter row values : 5\n",
      "        A \n",
      "      A B C \n",
      "    A B C D E \n",
      "  A B C D E F G \n",
      "A B C D E F G H I \n"
     ]
    }
   ],
   "source": [
    "r = int(input('enter row values : '))\n",
    "def pattern3():\n",
    "    for i in range(r):\n",
    "        for j in range(r-i-1):\n",
    "            print(' ',end = ' ')\n",
    "        for k in range(2*i+1):\n",
    "            print(chr(65+k), end = ' ')\n",
    "        print( )\n",
    "pattern3()"
   ]
  },
  {
   "cell_type": "code",
   "execution_count": 1,
   "id": "e3df61c3",
   "metadata": {},
   "outputs": [
    {
     "name": "stdout",
     "output_type": "stream",
     "text": [
      "enter row value : 5\n",
      "        1 1 2 3 4 5 6 7 8 9 \n",
      "      1 2 3 1 2 3 4 5 6 7 \n",
      "    1 2 3 4 5 1 2 3 4 5 \n",
      "  1 2 3 4 5 6 7 1 2 3 \n",
      "1 2 3 4 5 6 7 8 9 1 \n"
     ]
    }
   ],
   "source": [
    "r = int(input('enter row value : '))\n",
    "def pattern4():\n",
    "    for i in range(r):\n",
    "        for j in range(r-i-1):\n",
    "            print(' ',end=' ')\n",
    "        for k in range(2*i+1):\n",
    "            print(int(1+k),end=' ')\n",
    "        for k in range(2*(r-i)-1):\n",
    "            print(int(1+k),end=' ')\n",
    "        print( )\n",
    "pattern4()"
   ]
  },
  {
   "cell_type": "code",
   "execution_count": 16,
   "id": "79911576",
   "metadata": {},
   "outputs": [
    {
     "name": "stdout",
     "output_type": "stream",
     "text": [
      "enter row value : 5\n",
      "        * * * * * * * * * * \n",
      "      * * * * * * * * * * \n",
      "    * * * * * * * * * * \n",
      "  * * * * * * * * * * \n",
      "* * * * * * * * * * \n"
     ]
    }
   ],
   "source": [
    "r = int(input('enter row value : '))\n",
    "def pattern5():\n",
    "    for i in range(r):\n",
    "        for j in range(r-i-1):\n",
    "            print(' ',end=' ')\n",
    "        for k in range(2*i+1):\n",
    "            print(chr(42),end=' ')\n",
    "        for k in range(2*(r-i)-1):\n",
    "            print(\"*\",end=' ')\n",
    "        print( )\n",
    "pattern5()"
   ]
  },
  {
   "cell_type": "code",
   "execution_count": 10,
   "id": "5ae45508",
   "metadata": {},
   "outputs": [
    {
     "name": "stdout",
     "output_type": "stream",
     "text": [
      "enter row value : 6\n",
      "          A A B C D E F G H I J K \n",
      "        A B C A B C D E F G H I \n",
      "      A B C D E A B C D E F G \n",
      "    A B C D E F G A B C D E \n",
      "  A B C D E F G H I A B C \n",
      "A B C D E F G H I J K A \n"
     ]
    }
   ],
   "source": [
    "r = int(input('enter row value : '))\n",
    "def pattern6():\n",
    "    for i in range(r):\n",
    "        for j in range(r-i-1):\n",
    "            print(' ',end=' ')\n",
    "        for k in range(2*i+1):\n",
    "            print(chr(65+k),end=' ')\n",
    "        for k in range(2*(r-i)-1):\n",
    "            print(chr(65+k),end=' ')\n",
    "        print( )\n",
    "pattern6()"
   ]
  },
  {
   "cell_type": "code",
   "execution_count": 18,
   "id": "82156e27",
   "metadata": {},
   "outputs": [
    {
     "name": "stdout",
     "output_type": "stream",
     "text": [
      "enter row values : 5\n",
      "1 2 3 4 5 6 7 8 9 \n",
      "  1 2 3 4 5 6 7 \n",
      "    1 2 3 4 5 \n",
      "      1 2 3 \n",
      "        1 \n"
     ]
    }
   ],
   "source": [
    "r = int(input('enter row values : '))\n",
    "def pattern7():\n",
    "    for i in range(r-0):\n",
    "        for j in range(i):\n",
    "            print(' ',end = ' ')\n",
    "        for k in range(2*(r-i)-1):\n",
    "            print(int(1+k), end = ' ')\n",
    "        print( )\n",
    "pattern7()"
   ]
  },
  {
   "cell_type": "code",
   "execution_count": 22,
   "id": "1f39c318",
   "metadata": {},
   "outputs": [
    {
     "name": "stdout",
     "output_type": "stream",
     "text": [
      "enter row values : 5\n",
      "A B C D E F G H I \n",
      "  A B C D E F G \n",
      "    A B C D E \n",
      "      A B C \n",
      "        A \n"
     ]
    }
   ],
   "source": [
    "r = int(input('enter row values : '))\n",
    "def pattern8():\n",
    "    for i in range(r-0):\n",
    "        for j in range(i):\n",
    "            print(' ',end = ' ')\n",
    "        for k in range(2*(r-i)-1):\n",
    "            print(chr(65+k), end = ' ')\n",
    "        print( )\n",
    "pattern8()"
   ]
  },
  {
   "cell_type": "code",
   "execution_count": 24,
   "id": "aebd5fd2",
   "metadata": {},
   "outputs": [
    {
     "name": "stdout",
     "output_type": "stream",
     "text": [
      "enter row values : 5\n",
      "* * * * * * * * * \n",
      "  * * * * * * * \n",
      "    * * * * * \n",
      "      * * * \n",
      "        * \n"
     ]
    }
   ],
   "source": [
    "r = int(input('enter row values : '))\n",
    "def pattern9():\n",
    "    for i in range(r-0):\n",
    "        for j in range(i):\n",
    "            print(' ',end = ' ')\n",
    "        for k in range(2*(r-i)-1):\n",
    "            print('*', end = ' ')\n",
    "        print( )\n",
    "pattern9()"
   ]
  },
  {
   "cell_type": "code",
   "execution_count": 25,
   "id": "86d73258",
   "metadata": {},
   "outputs": [
    {
     "name": "stdout",
     "output_type": "stream",
     "text": [
      "enter row values : 5\n",
      "1 2 3 4 5 6 7 8 9 \n",
      "  1 2 3 4 5 6 7 \n",
      "    1 2 3 4 5 \n",
      "      1 2 3 \n",
      "        1 \n",
      "      1 2 3 \n",
      "    1 2 3 4 5 \n",
      "  1 2 3 4 5 6 7 \n",
      "1 2 3 4 5 6 7 8 9 \n"
     ]
    }
   ],
   "source": [
    "r = int(input('enter row values : '))\n",
    "def pattern10():\n",
    "    for i in range(r-1):\n",
    "        for j in range(i):\n",
    "            print(' ',end = ' ')\n",
    "        for k in range(2*(r-i)-1):\n",
    "            print(int(1+k), end = ' ')\n",
    "        print( )\n",
    "    for i in range(r):\n",
    "        for j in range(r-i-1):\n",
    "            print(' ',end = ' ')\n",
    "        for k in range(2*i+1):\n",
    "            print(int(1+k), end = ' ')\n",
    "        print( )\n",
    "pattern10()"
   ]
  },
  {
   "cell_type": "code",
   "execution_count": 26,
   "id": "87279ac1",
   "metadata": {},
   "outputs": [
    {
     "name": "stdout",
     "output_type": "stream",
     "text": [
      "enter row values : 5\n",
      "A B C D E F G H I \n",
      "  A B C D E F G \n",
      "    A B C D E \n",
      "      A B C \n",
      "        A \n",
      "      A B C \n",
      "    A B C D E \n",
      "  A B C D E F G \n",
      "A B C D E F G H I \n"
     ]
    }
   ],
   "source": [
    "r = int(input('enter row values : '))\n",
    "def pattern11():\n",
    "    for i in range(r-1):\n",
    "        for j in range(i):\n",
    "            print(' ',end = ' ')\n",
    "        for k in range(2*(r-i)-1):\n",
    "            print(chr(65+k), end = ' ')\n",
    "        print( )\n",
    "    for i in range(r):\n",
    "        for j in range(r-i-1):\n",
    "            print(' ',end = ' ')\n",
    "        for k in range(2*i+1):\n",
    "            print(chr(65+k), end = ' ')\n",
    "        print( )\n",
    "pattern11()"
   ]
  },
  {
   "cell_type": "code",
   "execution_count": 28,
   "id": "c9da556d",
   "metadata": {},
   "outputs": [
    {
     "name": "stdout",
     "output_type": "stream",
     "text": [
      "enter row values : 5\n",
      "♣ ♣ ♣ ♣ ♣ ♣ ♣ ♣ ♣ \n",
      "  ♣ ♣ ♣ ♣ ♣ ♣ ♣ \n",
      "    ♣ ♣ ♣ ♣ ♣ \n",
      "      ♣ ♣ ♣ \n",
      "        ♣ \n",
      "      ♣ ♣ ♣ \n",
      "    ♣ ♣ ♣ ♣ ♣ \n",
      "  ♣ ♣ ♣ ♣ ♣ ♣ ♣ \n",
      "♣ ♣ ♣ ♣ ♣ ♣ ♣ ♣ ♣ \n"
     ]
    }
   ],
   "source": [
    "r = int(input('enter row values : '))\n",
    "def pattern12():\n",
    "    for i in range(r-1):\n",
    "        for j in range(i):\n",
    "            print(' ',end = ' ')\n",
    "        for k in range(2*(r-i)-1):\n",
    "            print('♣', end = ' ')\n",
    "        print( )\n",
    "    for i in range(r):\n",
    "        for j in range(r-i-1):\n",
    "            print(' ',end = ' ')\n",
    "        for k in range(2*i+1):\n",
    "            print('♣', end = ' ')\n",
    "        print( )\n",
    "pattern12()"
   ]
  },
  {
   "cell_type": "code",
   "execution_count": 29,
   "id": "ff02869d",
   "metadata": {},
   "outputs": [
    {
     "name": "stdout",
     "output_type": "stream",
     "text": [
      "enter row value : 5\n",
      "        1 \n",
      "      1 2 3 \n",
      "    1 2 3 4 5 \n",
      "  1 2 3 4 5 6 7 \n",
      "1 2 3 4 5 6 7 8 9 \n",
      "  1 2 3 4 5 6 7 \n",
      "    1 2 3 4 5 \n",
      "      1 2 3 \n",
      "        1 \n"
     ]
    }
   ],
   "source": [
    "r = int(input('enter row value : '))\n",
    "def pattern13():\n",
    "    for i in range(r):\n",
    "        for j in range(r-i-1):\n",
    "            print(' ', end = ' ')\n",
    "        for j in range(2*i+1):\n",
    "            print(int(1+j), end = ' ')\n",
    "        print( )\n",
    "    for i in range(r-1):\n",
    "        for j in range(i+1):\n",
    "            print(' ',end = ' ')\n",
    "        for j in range(2*(r-i-1)-1):\n",
    "            print(int(1+j), end = ' ')\n",
    "        print( )\n",
    "pattern13()"
   ]
  },
  {
   "cell_type": "code",
   "execution_count": 30,
   "id": "8e5aea9c",
   "metadata": {},
   "outputs": [
    {
     "name": "stdout",
     "output_type": "stream",
     "text": [
      "enter row value : 5\n",
      "        A \n",
      "      A B C \n",
      "    A B C D E \n",
      "  A B C D E F G \n",
      "A B C D E F G H I \n",
      "  A B C D E F G \n",
      "    A B C D E \n",
      "      A B C \n",
      "        A \n"
     ]
    }
   ],
   "source": [
    "r = int(input('enter row value : '))\n",
    "def pattern14():\n",
    "    for i in range(r):\n",
    "        for j in range(r-i-1):\n",
    "            print(' ', end = ' ')\n",
    "        for j in range(2*i+1):\n",
    "            print(chr(65+j), end = ' ')\n",
    "        print( )\n",
    "    for i in range(r-1):\n",
    "        for j in range(i+1):\n",
    "            print(' ',end = ' ')\n",
    "        for j in range(2*(r-i-1)-1):\n",
    "            print(chr(65+j), end = ' ')\n",
    "        print( )\n",
    "pattern14()"
   ]
  },
  {
   "cell_type": "code",
   "execution_count": 31,
   "id": "824fbd1f",
   "metadata": {},
   "outputs": [
    {
     "name": "stdout",
     "output_type": "stream",
     "text": [
      "enter row value : 5\n",
      "        * \n",
      "      * * * \n",
      "    * * * * * \n",
      "  * * * * * * * \n",
      "* * * * * * * * * \n",
      "  * * * * * * * \n",
      "    * * * * * \n",
      "      * * * \n",
      "        * \n"
     ]
    }
   ],
   "source": [
    "r = int(input('enter row value : '))\n",
    "def pattern15():\n",
    "    for i in range(r):\n",
    "        for j in range(r-i-1):\n",
    "            print(' ', end = ' ')\n",
    "        for j in range(2*i+1):\n",
    "            print('*', end = ' ')\n",
    "        print( )\n",
    "    for i in range(r-1):\n",
    "        for j in range(i+1):\n",
    "            print(' ',end = ' ')\n",
    "        for j in range(2*(r-i-1)-1):\n",
    "            print('*', end = ' ')\n",
    "        print( )\n",
    "pattern15()"
   ]
  },
  {
   "cell_type": "code",
   "execution_count": null,
   "id": "94a72718",
   "metadata": {},
   "outputs": [],
   "source": []
  }
 ],
 "metadata": {
  "kernelspec": {
   "display_name": "Python 3 (ipykernel)",
   "language": "python",
   "name": "python3"
  },
  "language_info": {
   "codemirror_mode": {
    "name": "ipython",
    "version": 3
   },
   "file_extension": ".py",
   "mimetype": "text/x-python",
   "name": "python",
   "nbconvert_exporter": "python",
   "pygments_lexer": "ipython3",
   "version": "3.11.5"
  }
 },
 "nbformat": 4,
 "nbformat_minor": 5
}
