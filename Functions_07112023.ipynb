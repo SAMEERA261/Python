{
 "cells": [
  {
   "cell_type": "markdown",
   "id": "48ed1c27",
   "metadata": {},
   "source": [
    "### Function:\n",
    "\n",
    "* A function is a block of code which only runs when it is called. You can pass data, known as parameters, into a function. A function can return data as a result.\n",
    "*  In Python, a function is a block of organized, reusable code that performs a specific task. Functions provide better modularity for your application and facilitate code reuse.\n",
    "* we have a function thats already noted and then it will be called whenerver wanted.\n",
    "* a set of which will never change and values can be changed.\n",
    "* build the function called as defining the function,passing the value by calling the function.\n",
    "* SYNTAX: of defining a function\n",
    "   def func_name(parameter/s):\n",
    "   block of code\n",
    "* def is a keyword, which tells the Interpretor that we are defining a function.\n",
    "* func_name is name we give to the funclion we are defining, it acts as a variable name to the block\n",
    "\n",
    "### Parameters used to define a variable with in the function body.\n",
    "\n",
    "### Arguments are the actual values that pass in an funtion.\n"
   ]
  },
  {
   "cell_type": "code",
   "execution_count": 1,
   "id": "8365583e",
   "metadata": {},
   "outputs": [
    {
     "name": "stdout",
     "output_type": "stream",
     "text": [
      "Hello, Alice! Good morning\n"
     ]
    }
   ],
   "source": [
    "def greet(name):\n",
    "    print(\"Hello, \" + name + \"!\", 'Good morning')\n",
    "\n",
    "# Calling the function with an argument\n",
    "greet(\"Alice\")\n"
   ]
  },
  {
   "cell_type": "code",
   "execution_count": 2,
   "id": "53f275f2",
   "metadata": {},
   "outputs": [],
   "source": [
    "def foosum(a,b):\n",
    "    print(a+b)"
   ]
  },
  {
   "cell_type": "code",
   "execution_count": 3,
   "id": "94bdc083",
   "metadata": {},
   "outputs": [
    {
     "name": "stdout",
     "output_type": "stream",
     "text": [
      "6\n"
     ]
    }
   ],
   "source": [
    "foosum(1,5)"
   ]
  },
  {
   "cell_type": "code",
   "execution_count": 4,
   "id": "145dc51f",
   "metadata": {},
   "outputs": [
    {
     "name": "stdout",
     "output_type": "stream",
     "text": [
      "-22\n"
     ]
    }
   ],
   "source": [
    "foosum(-45,23)"
   ]
  },
  {
   "cell_type": "code",
   "execution_count": 5,
   "id": "5e8d6412",
   "metadata": {},
   "outputs": [],
   "source": [
    "def sdiv(numerator,dinominator):\n",
    "    print(numerator/dinominator)"
   ]
  },
  {
   "cell_type": "markdown",
   "id": "d306bd21",
   "metadata": {},
   "source": [
    "### position argument:\n",
    "* In Python, there are different types of arguments you can use when calling a function. Positional arguments are the most straightforward and common type.\n",
    "* When you use positional arguments, the values are assigned to the parameters based on their position in the function definition. The order in which you pass the arguments matters."
   ]
  },
  {
   "cell_type": "code",
   "execution_count": 6,
   "id": "21764d2d",
   "metadata": {},
   "outputs": [],
   "source": [
    "def greet(name, greeting):\n",
    "    print(greeting + \", \" + name + \"!\"+'☻')"
   ]
  },
  {
   "cell_type": "code",
   "execution_count": 7,
   "id": "62b114a5",
   "metadata": {},
   "outputs": [
    {
     "name": "stdout",
     "output_type": "stream",
     "text": [
      "Good morning, sameera!☻\n"
     ]
    }
   ],
   "source": [
    "greet('sameera','Good morning')"
   ]
  },
  {
   "cell_type": "code",
   "execution_count": 8,
   "id": "4854e320",
   "metadata": {},
   "outputs": [
    {
     "name": "stdout",
     "output_type": "stream",
     "text": [
      "5.0\n"
     ]
    }
   ],
   "source": [
    "sdiv(10,2)#position arguments(passing argumentr based on the position of our parameters)\n"
   ]
  },
  {
   "cell_type": "code",
   "execution_count": 9,
   "id": "b26127d3",
   "metadata": {},
   "outputs": [
    {
     "name": "stdout",
     "output_type": "stream",
     "text": [
      "0.2\n"
     ]
    }
   ],
   "source": [
    "sdiv(dinominator=10,numerator=2)\n"
   ]
  },
  {
   "cell_type": "code",
   "execution_count": 10,
   "id": "4b29b7fb",
   "metadata": {},
   "outputs": [],
   "source": [
    "n=10,2"
   ]
  },
  {
   "cell_type": "code",
   "execution_count": 11,
   "id": "c39d81a2",
   "metadata": {},
   "outputs": [],
   "source": [
    "def foo(a,b,c):\n",
    "    x=a+b\n",
    "    y=x/c\n",
    "    print(y)"
   ]
  },
  {
   "cell_type": "code",
   "execution_count": 12,
   "id": "b3dc9c90",
   "metadata": {},
   "outputs": [],
   "source": [
    "#uncomment to se the error foo (1,2,a=5) "
   ]
  },
  {
   "cell_type": "code",
   "execution_count": 13,
   "id": "7a5fb2d0",
   "metadata": {},
   "outputs": [],
   "source": [
    "def foopotentialEnergy(m,h,g=9.8):\n",
    "    print(m*h*g)"
   ]
  },
  {
   "cell_type": "code",
   "execution_count": 14,
   "id": "2801d2fa",
   "metadata": {},
   "outputs": [
    {
     "name": "stdout",
     "output_type": "stream",
     "text": [
      "490.00000000000006\n"
     ]
    }
   ],
   "source": [
    "foopotentialEnergy(10,5)"
   ]
  },
  {
   "cell_type": "code",
   "execution_count": 15,
   "id": "51e1478a",
   "metadata": {},
   "outputs": [
    {
     "name": "stdout",
     "output_type": "stream",
     "text": [
      "500\n"
     ]
    }
   ],
   "source": [
    "foopotentialEnergy(10,5,g=10)"
   ]
  },
  {
   "cell_type": "code",
   "execution_count": 16,
   "id": "793552c4",
   "metadata": {},
   "outputs": [],
   "source": [
    "def sdiv (dinominator:float,numerator:int): #using colon we can say the type of the \n",
    "    '''\n",
    "    dinominator=float\n",
    "    numerator=int'''\n",
    "    print(numerator/dinominator)"
   ]
  },
  {
   "cell_type": "code",
   "execution_count": 17,
   "id": "2fe53843",
   "metadata": {},
   "outputs": [
    {
     "name": "stdout",
     "output_type": "stream",
     "text": [
      "0.25\n"
     ]
    }
   ],
   "source": [
    "sdiv(12,3)"
   ]
  },
  {
   "cell_type": "markdown",
   "id": "615c2a09",
   "metadata": {},
   "source": [
    "### doc string:\n",
    "* we can add documentation to your functions using docstrings. A docstring is a string literal that occurs as the first statement in a module, function, class, or method definition and is used to document your code."
   ]
  },
  {
   "cell_type": "code",
   "execution_count": 18,
   "id": "7785421a",
   "metadata": {},
   "outputs": [],
   "source": [
    "def add_numbers(a, b):\n",
    "    \"\"\"\n",
    "    Adds two numbers and returns the result.\n",
    "\n",
    "    Parameters:\n",
    "    - a (int): The first number.\n",
    "    - b (int): The second number.\n",
    "\n",
    "    Returns:\n",
    "    int: The sum of a and b.\n",
    "    \"\"\"\n",
    "    result = a + b\n",
    "    return result"
   ]
  },
  {
   "cell_type": "code",
   "execution_count": 19,
   "id": "1347d980",
   "metadata": {},
   "outputs": [
    {
     "data": {
      "text/plain": [
       "5"
      ]
     },
     "execution_count": 19,
     "metadata": {},
     "output_type": "execute_result"
    }
   ],
   "source": [
    " add_numbers(2,3)"
   ]
  },
  {
   "cell_type": "code",
   "execution_count": 20,
   "id": "b50af736",
   "metadata": {
    "scrolled": true
   },
   "outputs": [
    {
     "name": "stdout",
     "output_type": "stream",
     "text": [
      "\n",
      "    Adds two numbers and returns the result.\n",
      "\n",
      "    Parameters:\n",
      "    - a (int): The first number.\n",
      "    - b (int): The second number.\n",
      "\n",
      "    Returns:\n",
      "    int: The sum of a and b.\n",
      "    \n"
     ]
    }
   ],
   "source": [
    "print( add_numbers.__doc__)"
   ]
  },
  {
   "cell_type": "code",
   "execution_count": 21,
   "id": "22b7550e",
   "metadata": {
    "scrolled": true
   },
   "outputs": [
    {
     "name": "stdout",
     "output_type": "stream",
     "text": [
      "\n",
      "    dinominator=float\n",
      "    numerator=int\n"
     ]
    }
   ],
   "source": [
    "print(sdiv.__doc__) #to read the function"
   ]
  },
  {
   "cell_type": "code",
   "execution_count": 22,
   "id": "2117cdcd",
   "metadata": {},
   "outputs": [],
   "source": [
    "def fooconcatnation (s1:str,s2:'',n=1):\n",
    "    print((s1+s2)*n)"
   ]
  },
  {
   "cell_type": "code",
   "execution_count": 23,
   "id": "62123ea8",
   "metadata": {},
   "outputs": [
    {
     "name": "stdout",
     "output_type": "stream",
     "text": [
      "heyhiheyhiheyhi\n"
     ]
    }
   ],
   "source": [
    "fooconcatnation ('hey','hi',3)"
   ]
  },
  {
   "cell_type": "markdown",
   "id": "e267deaf",
   "metadata": {},
   "source": [
    "### Keyword Arguments:\n",
    "* You can also pass values to parameters by explicitly specifying the parameter names. This allows you to pass them in any order."
   ]
  },
  {
   "cell_type": "code",
   "execution_count": 24,
   "id": "c22da3d1",
   "metadata": {},
   "outputs": [
    {
     "name": "stdout",
     "output_type": "stream",
     "text": [
      "Hello, sameera!☻\n"
     ]
    }
   ],
   "source": [
    "greet(greeting=\"Hello\", name=\"sameera\")\n"
   ]
  },
  {
   "cell_type": "markdown",
   "id": "e9b0585e",
   "metadata": {},
   "source": [
    "### Default Arguments:\n",
    "* You can provide default values for parameters. If the caller doesn't provide a value, the default is used."
   ]
  },
  {
   "cell_type": "code",
   "execution_count": 25,
   "id": "a98b528d",
   "metadata": {},
   "outputs": [
    {
     "name": "stdout",
     "output_type": "stream",
     "text": [
      "Hello, sameera!\n"
     ]
    }
   ],
   "source": [
    "def greet(name, greeting=\"Hello\"):\n",
    "    print(greeting + \", \" + name + \"!\")\n",
    "\n",
    "greet(\"sameera\")  # Uses the default greeting\n"
   ]
  },
  {
   "cell_type": "markdown",
   "id": "2571569e",
   "metadata": {},
   "source": [
    "### Variable-Length Arguments:\n",
    "* You can use *args and **kwargs to allow a function to accept any number of positional or keyword arguments."
   ]
  }
 ],
 "metadata": {
  "kernelspec": {
   "display_name": "Python 3 (ipykernel)",
   "language": "python",
   "name": "python3"
  },
  "language_info": {
   "codemirror_mode": {
    "name": "ipython",
    "version": 3
   },
   "file_extension": ".py",
   "mimetype": "text/x-python",
   "name": "python",
   "nbconvert_exporter": "python",
   "pygments_lexer": "ipython3",
   "version": "3.11.5"
  }
 },
 "nbformat": 4,
 "nbformat_minor": 5
}
