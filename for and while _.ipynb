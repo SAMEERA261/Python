{
 "cells": [
  {
   "cell_type": "markdown",
   "id": "a75a056e",
   "metadata": {},
   "source": [
    "# else loop\n",
    "* The statements in the else block will be executed after all iterations are completed. The program exits the loop only after the else block is executed.\n",
    "## Else in For Loop()\n",
    "* The else keyword in a for loop specifies a block of code to be executed when the loop is finished\n",
    "* The else keyword in a for loop specifies a block of code to be executed when the loop is finished\n",
    "* Syntax\n",
    "  for item in iterables:\n",
    "  process item\n",
    "  else:\n",
    "  statement\n",
    "* In this syntax, the else clause will execute only if the loop runs normally.\n",
    "* In other words, the else clause won’t execute if the loop encounters a break statement.\n",
    "* the else clause also executes when the iterables object has no item.\n",
    "\n",
    "#### Note: The else block will NOT be executed if the loop is stopped by a break statement."
   ]
  },
  {
   "cell_type": "code",
   "execution_count": 5,
   "id": "67133427",
   "metadata": {},
   "outputs": [
    {
     "name": "stdout",
     "output_type": "stream",
     "text": [
      "0\n",
      "1\n",
      "2\n",
      "3\n",
      "4\n",
      "5\n",
      "Finally finished!\n"
     ]
    }
   ],
   "source": [
    "for x in range(6):\n",
    "    print(x)\n",
    "else:\n",
    "    print(\"Finally finished!\")"
   ]
  },
  {
   "cell_type": "code",
   "execution_count": 7,
   "id": "b2b192d2",
   "metadata": {
    "scrolled": true
   },
   "outputs": [
    {
     "name": "stdout",
     "output_type": "stream",
     "text": [
      "0\n",
      "1\n",
      "2\n",
      "3\n",
      "4\n",
      "5\n",
      "6\n",
      "7\n",
      "8\n",
      "9\n",
      "execution completed\n"
     ]
    }
   ],
   "source": [
    "ele = 0\n",
    "while ele in range(10):\n",
    "    \n",
    "    print(ele)\n",
    "    ele+=1\n",
    "else:\n",
    "        print('execution completed')"
   ]
  },
  {
   "cell_type": "markdown",
   "id": "09af6f1a",
   "metadata": {},
   "source": [
    "## While else\n",
    "* While Else executes else block when the while condition becomes False.\n",
    "  Syntaxm\n",
    "  while condition:\n",
    "  statement(s)\n",
    "  else:\n",
    "  statement(s)\n",
    "* flow of execution for a while else statement"
   ]
  },
  {
   "cell_type": "code",
   "execution_count": 1,
   "id": "294a7e55",
   "metadata": {},
   "outputs": [
    {
     "name": "stdout",
     "output_type": "stream",
     "text": [
      "0\n",
      "1\n",
      "2\n",
      "3\n",
      "4\n",
      "zz\n"
     ]
    }
   ],
   "source": [
    "ele=0\n",
    "while ele in range(5):\n",
    "    print(ele)\n",
    "    ele+=1\n",
    "else:\n",
    "    print('exwcution completed')"
   ]
  },
  {
   "cell_type": "code",
   "execution_count": 13,
   "id": "acfb7841",
   "metadata": {
    "scrolled": true
   },
   "outputs": [
    {
     "name": "stdout",
     "output_type": "stream",
     "text": [
      "enter num a : 2\n",
      "enter num b : 25\n",
      "2,3,5,7,11,13,17,19,23,"
     ]
    }
   ],
   "source": [
    "a,b=int(input('enter num a : ')), int(input('enter num b : '))\n",
    "s,e=min(a,b),max(a,b)\n",
    "e=e+1\n",
    "for num in range(s,e):\n",
    "    for div in range(2,int(num/2)+1):\n",
    "        if num%div == 0:\n",
    "            break\n",
    "    else:\n",
    "        print(num,end=\",\")"
   ]
  },
  {
   "cell_type": "code",
   "execution_count": 16,
   "id": "b4658736",
   "metadata": {},
   "outputs": [
    {
     "name": "stdout",
     "output_type": "stream",
     "text": [
      "enter a number : 1\n",
      "it is there in the  container\n"
     ]
    }
   ],
   "source": [
    "#take an itterator with fil some value and ask some input statement and ask the user for the input and \n",
    "x=[1,2,3,'a',4,5]\n",
    "y=float(input('enter a number : '))\n",
    "for ele  in x:\n",
    "    if ele == y:\n",
    "        print('it is there in the  container')\n",
    "        break\n",
    "    else:\n",
    "        print('value is not in the container')"
   ]
  },
  {
   "cell_type": "markdown",
   "id": "24d591b7",
   "metadata": {},
   "source": [
    "## Enumerate()\n",
    "* when dealing with iterators, we also need to keep a count of iterations.\n",
    "* Python eases the programmers’ task by providing a built-in function enumerate() for this task.\n",
    "* The enumerate () method adds a counter to an iterable and returns it in the form of an enumerating object.\n",
    "* This enumerated object can then be used directly for loops or converted into a list of tuples using the list() function.\n",
    "* Syntax: enumerate(iterable, start=0)\n",
    "  Parameters:\n",
    "  Iterable: any object that supports iteration\n",
    "  Start: the index value from which the counter is to be started, by default it is 0\n",
    "   Return:\n",
    "* Returns an iterator with index and element pairs from the original iterable\n",
    "   enumerate give index and value at index\n"
   ]
  },
  {
   "cell_type": "code",
   "execution_count": 18,
   "id": "48bf3f4a",
   "metadata": {},
   "outputs": [
    {
     "name": "stdout",
     "output_type": "stream",
     "text": [
      "0 s\n",
      "1 a\n",
      "2 m\n",
      "3 e\n",
      "4 e\n",
      "5 r\n",
      "6 a\n"
     ]
    }
   ],
   "source": [
    "# enumarate gives the index and the value #concept pf unpacking \n",
    "x=\"sameera\"\n",
    "for ind,val in enumerate(x):\n",
    "    print(ind,val)"
   ]
  },
  {
   "cell_type": "code",
   "execution_count": 19,
   "id": "463f35be",
   "metadata": {},
   "outputs": [
    {
     "name": "stdout",
     "output_type": "stream",
     "text": [
      "0 s\n",
      "1 a\n",
      "2 m\n",
      "3 e\n",
      "4 e\n",
      "5 r\n",
      "6 a\n"
     ]
    }
   ],
   "source": [
    "x=\"sameera\"\n",
    "for _,val in enumerate(x):\n",
    "    print(_,val)"
   ]
  },
  {
   "cell_type": "code",
   "execution_count": 26,
   "id": "10aca471",
   "metadata": {},
   "outputs": [
    {
     "name": "stdout",
     "output_type": "stream",
     "text": [
      "enter a number : 1\n",
      "value 1.0 entered is there in the container at index 0\n"
     ]
    }
   ],
   "source": [
    "x=[1,2,3,'a',4,'sameera']\n",
    "y=float(input('enter a number : '))\n",
    "for i,ele in enumerate (x):\n",
    "    if ele == y:\n",
    "        print(f'value {y} entered is there in the container at index {i}')\n",
    "        break\n",
    "    else:\n",
    "        print('value is not in the container')"
   ]
  },
  {
   "cell_type": "code",
   "execution_count": 28,
   "id": "bb04db7b",
   "metadata": {},
   "outputs": [
    {
     "name": "stdout",
     "output_type": "stream",
     "text": [
      "enter a number : 0\n",
      "0 1\n",
      "1 2\n",
      "2 3\n",
      "3 a\n",
      "4 4\n",
      "5 sameera\n",
      "value is not in the container\n"
     ]
    }
   ],
   "source": [
    "x=[1,2,3,'a',4,'sameera']\n",
    "y=float(input('enter a number : '))\n",
    "for i,ele in enumerate (x):\n",
    "    print(i,ele)\n",
    "    if ele == y:\n",
    "        print(f'value {y} entered is there in the container at index {i}')\n",
    "        break\n",
    "else:\n",
    "    print('value is not in the container')"
   ]
  },
  {
   "cell_type": "markdown",
   "id": "5ad3a71f",
   "metadata": {},
   "source": [
    "### List comprehension\n",
    "* List comprehension is a concise and elegant way of creating a new list from an existing iterable object in Python.\n",
    "\n",
    "* It is a syntactic construct that consists of brackets containing an expression, which is executed for each element along with the for loop to iterate over each element in the iterable.\n",
    "\n",
    "* Syntax: newList = [expression(element) for element in oldList if condition]\n",
    "\n",
    "* expression represents the operation I want to execute on every item within the iterable, element refers to each value taken     from the iterable, and oldList specifies the sequence of elements I want to iterate.\n",
    "* The optional condition filter helps decide whether or not an element should be added to the new list.\n",
    "* The return value of a list comprehension is a new list containing the modified elements."
   ]
  },
  {
   "cell_type": "code",
   "execution_count": 44,
   "id": "8a7a37ca",
   "metadata": {},
   "outputs": [
    {
     "data": {
      "text/plain": [
       "[0, 1, 2, 3, 4, 5, 6, 7, 8, 9, 10]"
      ]
     },
     "execution_count": 44,
     "metadata": {},
     "output_type": "execute_result"
    }
   ],
   "source": [
    "#list comprehentions:variable for variable with in the squere brases in iterator if condition expression using iterator \n",
    "a=[]\n",
    "for i in range(0,11):\n",
    "    a.append(i)\n",
    "a    "
   ]
  },
  {
   "cell_type": "code",
   "execution_count": 39,
   "id": "2ca97c0a",
   "metadata": {},
   "outputs": [
    {
     "data": {
      "text/plain": [
       "[0, 4, 8, 12, 16, 20]"
      ]
     },
     "execution_count": 39,
     "metadata": {},
     "output_type": "execute_result"
    }
   ],
   "source": [
    "x=[2 * ele for ele in range(0,11) if ele%2==0]\n",
    "x"
   ]
  },
  {
   "cell_type": "code",
   "execution_count": 51,
   "id": "684a8f8c",
   "metadata": {
    "scrolled": true
   },
   "outputs": [
    {
     "name": "stdout",
     "output_type": "stream",
     "text": [
      "please enter the string with upper and lower alpabets:SAMEera\n"
     ]
    },
    {
     "data": {
      "text/plain": [
       "['S', 'A', 'M', 'E']"
      ]
     },
     "execution_count": 51,
     "metadata": {},
     "output_type": "execute_result"
    }
   ],
   "source": [
    "x=input('please enter the string with upper and lower alpabets:')\n",
    "y=[var for var in x if var.isupper()]\n",
    "y"
   ]
  },
  {
   "cell_type": "markdown",
   "id": "14d43f9d",
   "metadata": {},
   "source": [
    "### Set comprehension\n",
    "* Set comprehension is a concise and elegant way of creating a new set from an existing iterable object in Python 12. It is a syntactic construct that consists of curly braces containing an expression, which is executed for each element along with the for loop to iterate over each element in the iterable.\n",
    "\n",
    "* Syntax: newSet = {expression(element) for element in oldSet if condition}\n",
    "\n",
    "* expression represents the operation I want to execute on every item within the iterable, element refers to each value taken from the iterable, and oldSet specifies the sequence of elements I want to iterate.\n",
    "* The optional condition filter helps decide whether or not an element should be added to the new set.\n",
    "* The return value of a set comprehension is a new set containing the modified elements."
   ]
  },
  {
   "cell_type": "code",
   "execution_count": 53,
   "id": "1bb0d3d8",
   "metadata": {},
   "outputs": [
    {
     "name": "stdout",
     "output_type": "stream",
     "text": [
      "please enter the string with upper and lower alpabets:Sameera\n"
     ]
    },
    {
     "data": {
      "text/plain": [
       "{'a', 'e', 'm', 'r'}"
      ]
     },
     "execution_count": 53,
     "metadata": {},
     "output_type": "execute_result"
    }
   ],
   "source": [
    "#inside the flower brases if we have the same thing then its called set comprihention\n",
    "x=input('please enter the string with upper and lower alpabets:')\n",
    "y={var for var in x if var.islower()}\n",
    "y"
   ]
  },
  {
   "cell_type": "markdown",
   "id": "d8529203",
   "metadata": {},
   "source": [
    "### Zip\n",
    "* zip() is a built-in Python function that takes two or more iterables and returns an iterator of tuples.\n",
    "\n",
    "* Syntax: zip(*iterables)\n",
    "\n",
    "* iterables are the objects that I want to zip together.\n",
    "* The zip() function returns an iterator of tuples, where the i-th tuple contains the i-th element from each of the argument sequences or iterables\n",
    "* The zip() function can be used directly in a for loop or converted into a list of tuples using the list() function.\n"
   ]
  },
  {
   "cell_type": "code",
   "execution_count": 58,
   "id": "a8d19885",
   "metadata": {
    "scrolled": true
   },
   "outputs": [
    {
     "name": "stdout",
     "output_type": "stream",
     "text": [
      "(1, 'Sam')\n",
      "(2, 'Sha')\n",
      "(3, 'San')\n"
     ]
    }
   ],
   "source": [
    "for ele in zip ([1,2,3],['Sam','Sha','San'] ):\n",
    "    print (ele)\n",
    "        "
   ]
  },
  {
   "cell_type": "code",
   "execution_count": 59,
   "id": "9830f76d",
   "metadata": {},
   "outputs": [
    {
     "data": {
      "text/plain": [
       "{1: 'sam', 2: 'dam', 3: 'kam', 4: 'mam'}"
      ]
     },
     "execution_count": 59,
     "metadata": {},
     "output_type": "execute_result"
    }
   ],
   "source": [
    "{key:value for key,value in zip([1,2,3,4],['sam','dam','kam','mam'])}"
   ]
  },
  {
   "cell_type": "code",
   "execution_count": 60,
   "id": "a14093de",
   "metadata": {},
   "outputs": [
    {
     "data": {
      "text/plain": [
       "{0: 's', 1: 't', 2: 'r', 3: 'i', 4: 'n', 5: 'g'}"
      ]
     },
     "execution_count": 60,
     "metadata": {},
     "output_type": "execute_result"
    }
   ],
   "source": [
    "'string'\n",
    "{0:'s',1:'t',2:'r',3:'i',4:'n',5:'g'}"
   ]
  },
  {
   "cell_type": "markdown",
   "id": "c260dba3",
   "metadata": {},
   "source": [
    "### Dictionary Comprehensions\n",
    "* Extending the idea of list comprehensions, we can also create a dictionary using dictionary comprehensions.\n",
    "* The basic structure of a dictionary comprehension looks like.\n",
    "* syntax\n",
    "  output_dict = {key:value for (key, value) in iterable if (key, value satisfy this condition)}"
   ]
  },
  {
   "cell_type": "code",
   "execution_count": 62,
   "id": "0a399f87",
   "metadata": {},
   "outputs": [
    {
     "name": "stdout",
     "output_type": "stream",
     "text": [
      "please enter the string:i have to have some practice\n"
     ]
    },
    {
     "data": {
      "text/plain": [
       "{0: 'i',\n",
       " 1: ' ',\n",
       " 2: 'h',\n",
       " 3: 'a',\n",
       " 4: 'v',\n",
       " 5: 'e',\n",
       " 6: ' ',\n",
       " 7: 't',\n",
       " 8: 'o',\n",
       " 9: ' ',\n",
       " 10: 'h',\n",
       " 11: 'a',\n",
       " 12: 'v',\n",
       " 13: 'e',\n",
       " 14: ' ',\n",
       " 15: 's',\n",
       " 16: 'o',\n",
       " 17: 'm',\n",
       " 18: 'e',\n",
       " 19: ' ',\n",
       " 20: 'p',\n",
       " 21: 'r',\n",
       " 22: 'a',\n",
       " 23: 'c',\n",
       " 24: 't',\n",
       " 25: 'i',\n",
       " 26: 'c',\n",
       " 27: 'e'}"
      ]
     },
     "execution_count": 62,
     "metadata": {},
     "output_type": "execute_result"
    }
   ],
   "source": [
    "x=input('please enter the string:')#using enumrate convrting the string to dictionary\n",
    "y={key:value for key,value in enumerate(x)}\n",
    "y\n"
   ]
  },
  {
   "cell_type": "code",
   "execution_count": null,
   "id": "00f08142",
   "metadata": {},
   "outputs": [],
   "source": []
  }
 ],
 "metadata": {
  "kernelspec": {
   "display_name": "Python 3 (ipykernel)",
   "language": "python",
   "name": "python3"
  },
  "language_info": {
   "codemirror_mode": {
    "name": "ipython",
    "version": 3
   },
   "file_extension": ".py",
   "mimetype": "text/x-python",
   "name": "python",
   "nbconvert_exporter": "python",
   "pygments_lexer": "ipython3",
   "version": "3.11.5"
  }
 },
 "nbformat": 4,
 "nbformat_minor": 5
}
