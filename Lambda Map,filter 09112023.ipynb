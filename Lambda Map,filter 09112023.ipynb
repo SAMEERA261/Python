{
 "cells": [
  {
   "cell_type": "markdown",
   "id": "ee755464",
   "metadata": {},
   "source": [
    "### Return:-\n",
    "* The \"return\" statement in Python is used to exit a function and return a value.\n",
    "* The statements after the return statements are not executed.\n",
    "* If the return statement is without any expression, then the special value None is returned."
   ]
  },
  {
   "cell_type": "code",
   "execution_count": 49,
   "id": "a3358edc",
   "metadata": {},
   "outputs": [],
   "source": [
    "def foostrfind(s,char):\n",
    "    x=s\n",
    "    y=char\n",
    "    for i,j in enumerate(x):\n",
    "        if y==j:\n",
    "            return i\n",
    "    else:\n",
    "            return -1\n",
    "        "
   ]
  },
  {
   "cell_type": "code",
   "execution_count": 55,
   "id": "79dafc04",
   "metadata": {},
   "outputs": [
    {
     "data": {
      "text/plain": [
       "1"
      ]
     },
     "execution_count": 55,
     "metadata": {},
     "output_type": "execute_result"
    }
   ],
   "source": [
    "foostrfind('Sameera','a')"
   ]
  },
  {
   "cell_type": "markdown",
   "id": "458e9303",
   "metadata": {},
   "source": [
    "# Lambda\n",
    "  #### syntax:lambda parameters:block of code\n",
    "* lambda var/s:<statement/s using these var/s>\n",
    "* A lambda function is a small anonymous function.\n",
    "* A lambda function can take any number of arguments, but can only have one expression.\n",
    "* A lambda function is a small anonymous function.\n",
    "* A lambda function can take any number of arguments, but can only have one expression."
   ]
  },
  {
   "cell_type": "code",
   "execution_count": 1,
   "id": "4caad378",
   "metadata": {},
   "outputs": [
    {
     "data": {
      "text/plain": [
       "20736"
      ]
     },
     "execution_count": 1,
     "metadata": {},
     "output_type": "execute_result"
    }
   ],
   "source": [
    "(lambda x,y :x**y)(144,2)"
   ]
  },
  {
   "cell_type": "code",
   "execution_count": 47,
   "id": "439634b6",
   "metadata": {},
   "outputs": [],
   "source": [
    "#lambda x:a,b,c=()"
   ]
  },
  {
   "cell_type": "code",
   "execution_count": 8,
   "id": "ef79ac3b",
   "metadata": {},
   "outputs": [
    {
     "data": {
      "text/plain": [
       "'Even'"
      ]
     },
     "execution_count": 8,
     "metadata": {},
     "output_type": "execute_result"
    }
   ],
   "source": [
    "x=10\n",
    "'Even' if x%2==0 else 'odd'"
   ]
  },
  {
   "cell_type": "code",
   "execution_count": 48,
   "id": "b10e30ce",
   "metadata": {},
   "outputs": [
    {
     "data": {
      "text/plain": [
       "'odd'"
      ]
     },
     "execution_count": 48,
     "metadata": {},
     "output_type": "execute_result"
    }
   ],
   "source": [
    "(lambda x:'Even' if x%2==0 else 'odd')(3)\n"
   ]
  },
  {
   "cell_type": "code",
   "execution_count": 12,
   "id": "b7126fd8",
   "metadata": {},
   "outputs": [
    {
     "data": {
      "text/plain": [
       "([0, 2, 4, 6, 8, 10, 12, 14, 16, 18, 20], [1, 3, 5, 7, 9, 11, 13, 15, 17, 19])"
      ]
     },
     "execution_count": 12,
     "metadata": {},
     "output_type": "execute_result"
    }
   ],
   "source": [
    "(lambda x,y:([ele for ele in range(x,y+1)if ele%2==0],[ele for ele in range (x,y+1)if ele%2!=0]))(0,20)"
   ]
  },
  {
   "cell_type": "code",
   "execution_count": 13,
   "id": "e000e457",
   "metadata": {},
   "outputs": [],
   "source": [
    "# map,filter,reduce"
   ]
  },
  {
   "cell_type": "markdown",
   "id": "fea21af8",
   "metadata": {},
   "source": [
    "## map()\n",
    "* we use map function to apply our function on each element of an iterator\n",
    "### syntax of map funtion\n",
    "      map(function,iterator)\n",
    "      function:Required. The function to execute for each item\n",
    "      iterable:Required. A sequence, collection or an iterator object. You can send as many iterables as you like, just make     sure the function has one parameter for each iterable.\n",
    " * The map() function executes a specified function for each item in an iterable. The item is sent to the function as a parameter.\n",
    " * The map() function in Python is used to apply a specified function to all the items in an iterable (e.g., a list) and returns an iterable (usually a map object, which can be converted to a list)"
   ]
  },
  {
   "cell_type": "code",
   "execution_count": 16,
   "id": "e5a34538",
   "metadata": {},
   "outputs": [
    {
     "data": {
      "text/plain": [
       "<map at 0x1baea501ab0>"
      ]
     },
     "execution_count": 16,
     "metadata": {},
     "output_type": "execute_result"
    }
   ],
   "source": [
    "z=map(lambda x : x**2,[1,2,3])\n",
    "z"
   ]
  },
  {
   "cell_type": "code",
   "execution_count": 18,
   "id": "cce82e3d",
   "metadata": {},
   "outputs": [
    {
     "data": {
      "text/plain": [
       "[1, 4, 9]"
      ]
     },
     "execution_count": 18,
     "metadata": {},
     "output_type": "execute_result"
    }
   ],
   "source": [
    "list(z)"
   ]
  },
  {
   "cell_type": "code",
   "execution_count": 19,
   "id": "092d3317",
   "metadata": {},
   "outputs": [
    {
     "data": {
      "text/plain": [
       "[97, 98, 99]"
      ]
     },
     "execution_count": 19,
     "metadata": {},
     "output_type": "execute_result"
    }
   ],
   "source": [
    "z=map(ord,'abc')\n",
    "list(z)"
   ]
  },
  {
   "cell_type": "markdown",
   "id": "4c1c975e",
   "metadata": {},
   "source": [
    "#### it takes one value and returns another value"
   ]
  },
  {
   "cell_type": "code",
   "execution_count": 22,
   "id": "c6b2fea4",
   "metadata": {},
   "outputs": [
    {
     "data": {
      "text/plain": [
       "<map at 0x1baea6969e0>"
      ]
     },
     "execution_count": 22,
     "metadata": {},
     "output_type": "execute_result"
    }
   ],
   "source": [
    "z=map(lambda x:x/0,[1,2,3])\n",
    "z"
   ]
  },
  {
   "cell_type": "code",
   "execution_count": 27,
   "id": "decef8e8",
   "metadata": {},
   "outputs": [
    {
     "ename": "ZeroDivisionError",
     "evalue": "division by zero",
     "output_type": "error",
     "traceback": [
      "\u001b[1;31m---------------------------------------------------------------------------\u001b[0m",
      "\u001b[1;31mZeroDivisionError\u001b[0m                         Traceback (most recent call last)",
      "Cell \u001b[1;32mIn[27], line 1\u001b[0m\n\u001b[1;32m----> 1\u001b[0m \u001b[38;5;241m1\u001b[39m\u001b[38;5;241m/\u001b[39m\u001b[38;5;241m0\u001b[39m\n",
      "\u001b[1;31mZeroDivisionError\u001b[0m: division by zero"
     ]
    }
   ],
   "source": [
    "1/0 #the function execution will happen at the run time"
   ]
  },
  {
   "cell_type": "markdown",
   "id": "fa7926ae",
   "metadata": {},
   "source": [
    "|###### uncomment to see the error list(z)"
   ]
  },
  {
   "cell_type": "code",
   "execution_count": 29,
   "id": "43aa6a0c",
   "metadata": {},
   "outputs": [
    {
     "data": {
      "text/plain": [
       "[11, 22, 33]"
      ]
     },
     "execution_count": 29,
     "metadata": {},
     "output_type": "execute_result"
    }
   ],
   "source": [
    "list(map(lambda x,y :x+y,[1,2,3],[10,20,30]))# always we can give only one iterator"
   ]
  },
  {
   "cell_type": "markdown",
   "id": "97f2b92e",
   "metadata": {},
   "source": [
    "## filter()\n",
    "* The filter() function in Python is used to construct an iterator from elements of an iterable for which a function returns true. It's often used with lambda functions for short, simple filtering.\n",
    "* filter function to which takes two inpute,funtion and iterator to filter. "
   ]
  },
  {
   "cell_type": "code",
   "execution_count": 39,
   "id": "76b56204",
   "metadata": {},
   "outputs": [
    {
     "data": {
      "text/plain": [
       "[2, 4, 6, 8, 10]"
      ]
     },
     "execution_count": 39,
     "metadata": {},
     "output_type": "execute_result"
    }
   ],
   "source": [
    "list(filter(lambda x :True if x%2==0 else False ,[1,2,3,4,5,6,7,8,9,10]))"
   ]
  },
  {
   "cell_type": "code",
   "execution_count": 40,
   "id": "a9e53a68",
   "metadata": {},
   "outputs": [
    {
     "data": {
      "text/plain": [
       "[2, 4, 6, 8, 10]"
      ]
     },
     "execution_count": 40,
     "metadata": {},
     "output_type": "execute_result"
    }
   ],
   "source": [
    "list(filter(lambda x :False if x%2!=0 else True ,[1,2,3,4,5,6,7,8,9,10]))"
   ]
  },
  {
   "cell_type": "code",
   "execution_count": 56,
   "id": "8c577c1d",
   "metadata": {},
   "outputs": [
    {
     "data": {
      "text/plain": [
       "['a', 'e', 'e', 'a']"
      ]
     },
     "execution_count": 56,
     "metadata": {},
     "output_type": "execute_result"
    }
   ],
   "source": [
    "list(filter(lambda x: True  if  x in 'aeiouAEIOU' else False, 'sameera' ))"
   ]
  },
  {
   "cell_type": "code",
   "execution_count": 43,
   "id": "2e74d054",
   "metadata": {},
   "outputs": [
    {
     "data": {
      "text/plain": [
       "['1', '2', '3', 's', 'a', 'm']"
      ]
     },
     "execution_count": 43,
     "metadata": {},
     "output_type": "execute_result"
    }
   ],
   "source": [
    "list(filter(lambda x : True if x.isalnum() else False,'123sam@' ))"
   ]
  },
  {
   "cell_type": "code",
   "execution_count": 45,
   "id": "9a21dfff",
   "metadata": {},
   "outputs": [
    {
     "data": {
      "text/plain": [
       "['@', '$']"
      ]
     },
     "execution_count": 45,
     "metadata": {},
     "output_type": "execute_result"
    }
   ],
   "source": [
    "list(filter(lambda x : True if x.isalnum() is False else  False,'123sam@$'))"
   ]
  },
  {
   "cell_type": "markdown",
   "id": "cb3b0779",
   "metadata": {},
   "source": [
    "## reduce():\n",
    "* The reduce() function in Python is part of the functools module and is used to apply a specified function cumulatively to the items of an iterable, from left to right, so as to reduce the iterable to a single value.\n",
    "* apply a function to a iterable and reduce it to a single cumilative value.performs function on first two elements and repets until the value is '1'.\n",
    " * if we have a list opf values as ['h','e','l','l','o'] then if we use reduce function with lambda in it it will show a result as \"hello\"."
   ]
  }
 ],
 "metadata": {
  "kernelspec": {
   "display_name": "Python 3 (ipykernel)",
   "language": "python",
   "name": "python3"
  },
  "language_info": {
   "codemirror_mode": {
    "name": "ipython",
    "version": 3
   },
   "file_extension": ".py",
   "mimetype": "text/x-python",
   "name": "python",
   "nbconvert_exporter": "python",
   "pygments_lexer": "ipython3",
   "version": "3.11.5"
  }
 },
 "nbformat": 4,
 "nbformat_minor": 5
}
