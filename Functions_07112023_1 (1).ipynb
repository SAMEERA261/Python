{
 "cells": [
  {
   "cell_type": "markdown",
   "id": "9d3dae50",
   "metadata": {},
   "source": [
    "### Function:\n",
    "\n",
    "* A function is a block of code which only runs when it is called. You can pass data, known as parameters, into a function. A function can return data as a result.\n",
    "*  In Python, a function is a block of organized, reusable code that performs a specific task. Functions provide better modularity for your application and facilitate code reuse.\n",
    "* we have a function thats already noted and then it will be called whenerver wanted.\n",
    "* a set of which will never change and values can be changed.\n",
    "* build the function called as defining the function,passing the value by calling the function.\n",
    "* SYNTAX: of defining a function\n",
    "   def func_name(parameter/s):\n",
    "   block of code\n",
    "* def is a keyword, which tells the Interpretor that we are defining a function.\n",
    "* func_name is name we give to the funclion we are defining, it acts as a variable name to the block\n",
    "\n",
    "### Parameters used to define a variable with in the function body.\n",
    "\n",
    "### Arguments are the actual values that pass in an funtion.\n"
   ]
  },
  {
   "cell_type": "code",
   "execution_count": 1,
   "id": "55637a1d",
   "metadata": {},
   "outputs": [
    {
     "name": "stdout",
     "output_type": "stream",
     "text": [
      "Hello, Alice! Good morning\n"
     ]
    }
   ],
   "source": [
    "def greet(name):\n",
    "    print(\"Hello, \" + name + \"!\", 'Good morning')\n",
    "\n",
    "# Calling the function with an argument\n",
    "greet(\"Alice\")\n"
   ]
  },
  {
   "cell_type": "code",
   "execution_count": 2,
   "id": "37c7cc0d",
   "metadata": {},
   "outputs": [],
   "source": [
    "def foosum(a,b):\n",
    "    print(a+b)"
   ]
  },
  {
   "cell_type": "code",
   "execution_count": 3,
   "id": "4e528c18",
   "metadata": {},
   "outputs": [
    {
     "name": "stdout",
     "output_type": "stream",
     "text": [
      "6\n"
     ]
    }
   ],
   "source": [
    "foosum(1,5)"
   ]
  },
  {
   "cell_type": "code",
   "execution_count": 4,
   "id": "8f99879a",
   "metadata": {},
   "outputs": [
    {
     "name": "stdout",
     "output_type": "stream",
     "text": [
      "-22\n"
     ]
    }
   ],
   "source": [
    "foosum(-45,23)"
   ]
  },
  {
   "cell_type": "code",
   "execution_count": 5,
   "id": "cdacd4c4",
   "metadata": {},
   "outputs": [],
   "source": [
    "def sdiv(numerator,dinominator):\n",
    "    print(numerator/dinominator)"
   ]
  },
  {
   "cell_type": "markdown",
   "id": "fb195fba",
   "metadata": {},
   "source": [
    "### position argument:\n",
    "* In Python, there are different types of arguments you can use when calling a function. Positional arguments are the most straightforward and common type.\n",
    "* When you use positional arguments, the values are assigned to the parameters based on their position in the function definition. The order in which you pass the arguments matters."
   ]
  },
  {
   "cell_type": "code",
   "execution_count": 6,
   "id": "01bc0ce7",
   "metadata": {},
   "outputs": [],
   "source": [
    "def greet(name, greeting):\n",
    "    print(greeting + \", \" + name + \"!\"+'☻')"
   ]
  },
  {
   "cell_type": "code",
   "execution_count": 7,
   "id": "f1fbd364",
   "metadata": {},
   "outputs": [
    {
     "name": "stdout",
     "output_type": "stream",
     "text": [
      "Good morning, sameera!☻\n"
     ]
    }
   ],
   "source": [
    "greet('sameera','Good morning')"
   ]
  },
  {
   "cell_type": "code",
   "execution_count": 8,
   "id": "40023845",
   "metadata": {},
   "outputs": [
    {
     "name": "stdout",
     "output_type": "stream",
     "text": [
      "5.0\n"
     ]
    }
   ],
   "source": [
    "sdiv(10,2)#position arguments(passing argumentr based on the position of our parameters)\n"
   ]
  },
  {
   "cell_type": "code",
   "execution_count": 9,
   "id": "b9221f04",
   "metadata": {},
   "outputs": [
    {
     "name": "stdout",
     "output_type": "stream",
     "text": [
      "0.2\n"
     ]
    }
   ],
   "source": [
    "sdiv(dinominator=10,numerator=2)\n"
   ]
  },
  {
   "cell_type": "code",
   "execution_count": 10,
   "id": "5ffaef08",
   "metadata": {},
   "outputs": [],
   "source": [
    "n=10,2"
   ]
  },
  {
   "cell_type": "code",
   "execution_count": 11,
   "id": "9ff23b9f",
   "metadata": {},
   "outputs": [],
   "source": [
    "def foo(a,b,c):\n",
    "    x=a+b\n",
    "    y=x/c\n",
    "    print(y)"
   ]
  },
  {
   "cell_type": "code",
   "execution_count": 12,
   "id": "4554da29",
   "metadata": {},
   "outputs": [],
   "source": [
    "#uncomment to se the error foo (1,2,a=5) "
   ]
  },
  {
   "cell_type": "code",
   "execution_count": 13,
   "id": "7d646411",
   "metadata": {},
   "outputs": [],
   "source": [
    "def foopotentialEnergy(m,h,g=9.8):\n",
    "    print(m*h*g)"
   ]
  },
  {
   "cell_type": "code",
   "execution_count": 14,
   "id": "6375e735",
   "metadata": {},
   "outputs": [
    {
     "name": "stdout",
     "output_type": "stream",
     "text": [
      "490.00000000000006\n"
     ]
    }
   ],
   "source": [
    "foopotentialEnergy(10,5)"
   ]
  },
  {
   "cell_type": "code",
   "execution_count": 15,
   "id": "6dcdb82b",
   "metadata": {},
   "outputs": [
    {
     "name": "stdout",
     "output_type": "stream",
     "text": [
      "500\n"
     ]
    }
   ],
   "source": [
    "foopotentialEnergy(10,5,g=10)"
   ]
  },
  {
   "cell_type": "code",
   "execution_count": 16,
   "id": "5b5f3928",
   "metadata": {},
   "outputs": [],
   "source": [
    "def sdiv (dinominator:float,numerator:int): #using colon we can say the type of the \n",
    "    '''\n",
    "    dinominator=float\n",
    "    numerator=int'''\n",
    "    print(numerator/dinominator)"
   ]
  },
  {
   "cell_type": "code",
   "execution_count": 17,
   "id": "1503f1f9",
   "metadata": {},
   "outputs": [
    {
     "name": "stdout",
     "output_type": "stream",
     "text": [
      "0.25\n"
     ]
    }
   ],
   "source": [
    "sdiv(12,3)"
   ]
  },
  {
   "cell_type": "markdown",
   "id": "efb66392",
   "metadata": {},
   "source": [
    "### doc string:\n",
    "* we can add documentation to your functions using docstrings. A docstring is a string literal that occurs as the first statement in a module, function, class, or method definition and is used to document your code."
   ]
  },
  {
   "cell_type": "code",
   "execution_count": 18,
   "id": "95ccf8ca",
   "metadata": {},
   "outputs": [],
   "source": [
    "def add_numbers(a, b):\n",
    "    \"\"\"\n",
    "    Adds two numbers and returns the result.\n",
    "\n",
    "    Parameters:\n",
    "    - a (int): The first number.\n",
    "    - b (int): The second number.\n",
    "\n",
    "    Returns:\n",
    "    int: The sum of a and b.\n",
    "    \"\"\"\n",
    "    result = a + b\n",
    "    return result"
   ]
  },
  {
   "cell_type": "code",
   "execution_count": 19,
   "id": "27e0a0cc",
   "metadata": {},
   "outputs": [
    {
     "data": {
      "text/plain": [
       "5"
      ]
     },
     "execution_count": 19,
     "metadata": {},
     "output_type": "execute_result"
    }
   ],
   "source": [
    " add_numbers(2,3)"
   ]
  },
  {
   "cell_type": "code",
   "execution_count": 20,
   "id": "01c73b60",
   "metadata": {
    "scrolled": true
   },
   "outputs": [
    {
     "name": "stdout",
     "output_type": "stream",
     "text": [
      "\n",
      "    Adds two numbers and returns the result.\n",
      "\n",
      "    Parameters:\n",
      "    - a (int): The first number.\n",
      "    - b (int): The second number.\n",
      "\n",
      "    Returns:\n",
      "    int: The sum of a and b.\n",
      "    \n"
     ]
    }
   ],
   "source": [
    "print( add_numbers.__doc__)"
   ]
  },
  {
   "cell_type": "code",
   "execution_count": 21,
   "id": "ca7a73be",
   "metadata": {
    "scrolled": true
   },
   "outputs": [
    {
     "name": "stdout",
     "output_type": "stream",
     "text": [
      "\n",
      "    dinominator=float\n",
      "    numerator=int\n"
     ]
    }
   ],
   "source": [
    "print(sdiv.__doc__) #to read the function"
   ]
  },
  {
   "cell_type": "code",
   "execution_count": 22,
   "id": "eef0d8f5",
   "metadata": {},
   "outputs": [],
   "source": [
    "def fooconcatnation (s1:str,s2:'',n=1):\n",
    "    print((s1+s2)*n)"
   ]
  },
  {
   "cell_type": "code",
   "execution_count": 23,
   "id": "45fbc7da",
   "metadata": {},
   "outputs": [
    {
     "name": "stdout",
     "output_type": "stream",
     "text": [
      "heyhiheyhiheyhi\n"
     ]
    }
   ],
   "source": [
    "fooconcatnation ('hey','hi',3)"
   ]
  },
  {
   "cell_type": "markdown",
   "id": "6dc32876",
   "metadata": {},
   "source": [
    "### Keyword Arguments:\n",
    "* You can also pass values to parameters by explicitly specifying the parameter names. This allows you to pass them in any order."
   ]
  },
  {
   "cell_type": "code",
   "execution_count": 24,
   "id": "0a01b9dd",
   "metadata": {},
   "outputs": [
    {
     "name": "stdout",
     "output_type": "stream",
     "text": [
      "Hello, sameera!☻\n"
     ]
    }
   ],
   "source": [
    "greet(greeting=\"Hello\", name=\"sameera\")\n"
   ]
  },
  {
   "cell_type": "markdown",
   "id": "b358cfa6",
   "metadata": {},
   "source": [
    "### Default Arguments:\n",
    "* You can provide default values for parameters. If the caller doesn't provide a value, the default is used."
   ]
  },
  {
   "cell_type": "code",
   "execution_count": 25,
   "id": "a3a90073",
   "metadata": {},
   "outputs": [
    {
     "name": "stdout",
     "output_type": "stream",
     "text": [
      "Hello, sameera!\n"
     ]
    }
   ],
   "source": [
    "def greet(name, greeting=\"Hello\"):\n",
    "    print(greeting + \", \" + name + \"!\")\n",
    "\n",
    "greet(\"sameera\")  # Uses the default greeting\n"
   ]
  },
  {
   "cell_type": "markdown",
   "id": "13b6dc02",
   "metadata": {},
   "source": [
    "### Variable-Length Arguments:\n",
    "* You can use *args and **kwargs to allow a function to accept any number of positional or keyword arguments."
   ]
  },
  {
   "cell_type": "markdown",
   "id": "43e98d14",
   "metadata": {},
   "source": [
    "08-11-2023\n",
    "#### return \n",
    "* every function will return"
   ]
  },
  {
   "cell_type": "code",
   "execution_count": 28,
   "id": "e864b767",
   "metadata": {},
   "outputs": [],
   "source": [
    "def concatination_string(s1:str,s2='',n=1):\n",
    "    return(s1+s2)*n"
   ]
  },
  {
   "cell_type": "code",
   "execution_count": 30,
   "id": "ebb251b6",
   "metadata": {},
   "outputs": [
    {
     "data": {
      "text/plain": [
       "'Hello sam Hello sam Hello sam '"
      ]
     },
     "execution_count": 30,
     "metadata": {},
     "output_type": "execute_result"
    }
   ],
   "source": [
    "z=concatination_string('Hello ','sam ',3)\n",
    "z\n"
   ]
  },
  {
   "cell_type": "code",
   "execution_count": 32,
   "id": "090a0615",
   "metadata": {},
   "outputs": [
    {
     "data": {
      "text/plain": [
       "'Hello Hello Hello Hello Hello '"
      ]
     },
     "execution_count": 32,
     "metadata": {},
     "output_type": "execute_result"
    }
   ],
   "source": [
    "z=concatination_string('Hello ',n=5)\n",
    "z"
   ]
  },
  {
   "cell_type": "code",
   "execution_count": 41,
   "id": "8d87a442",
   "metadata": {},
   "outputs": [
    {
     "ename": "SyntaxError",
     "evalue": "expected ':' (2162772481.py, line 4)",
     "output_type": "error",
     "traceback": [
      "\u001b[1;36m  Cell \u001b[1;32mIn[41], line 4\u001b[1;36m\u001b[0m\n\u001b[1;33m    else s.isnumeric()==True :\u001b[0m\n\u001b[1;37m         ^\u001b[0m\n\u001b[1;31mSyntaxError\u001b[0m\u001b[1;31m:\u001b[0m expected ':'\n"
     ]
    }
   ],
   "source": [
    "s='I ♥ to have breakfast @ 8:30'\n",
    "if s.isalpha()==True :\n",
    "    return('the first alphabet is')\n",
    "else s.isnumeric()==True :\n",
    "    return('the first non alpha char is numeric')\n",
    "else:\n",
    "    return('the first non alpha character')\n"
   ]
  },
  {
   "cell_type": "code",
   "execution_count": null,
   "id": "71f74b21",
   "metadata": {},
   "outputs": [],
   "source": [
    "s='I ♥ to have breakfast @ 8:30'\n"
   ]
  },
  {
   "cell_type": "code",
   "execution_count": 47,
   "id": "093c070c",
   "metadata": {},
   "outputs": [],
   "source": [
    "def foo1stoc(s):\n",
    "    x=s.casefold()\n",
    "    for character in x:\n",
    "        if character.isnumeric():\n",
    "            print(f'the first non alpha character is a numeric',{character})\n",
    "            return character\n",
    "        elif character.isalpha() is False:\n",
    "            print(f'the first non alpha character is a special character',{character})\n",
    "            return character"
   ]
  },
  {
   "cell_type": "code",
   "execution_count": 49,
   "id": "16cba0f8",
   "metadata": {},
   "outputs": [
    {
     "name": "stdout",
     "output_type": "stream",
     "text": [
      "the first non alpha character is a special character {'♥'}\n"
     ]
    },
    {
     "data": {
      "text/plain": [
       "'♥'"
      ]
     },
     "execution_count": 49,
     "metadata": {},
     "output_type": "execute_result"
    }
   ],
   "source": [
    "foo1stoc('I♥tohavebreakfast@8:30')"
   ]
  },
  {
   "cell_type": "code",
   "execution_count": 53,
   "id": "97c8a5a6",
   "metadata": {},
   "outputs": [
    {
     "ename": "SyntaxError",
     "evalue": "invalid syntax (301637071.py, line 4)",
     "output_type": "error",
     "traceback": [
      "\u001b[1;36m  Cell \u001b[1;32mIn[53], line 4\u001b[1;36m\u001b[0m\n\u001b[1;33m    return its an even number\u001b[0m\n\u001b[1;37m               ^\u001b[0m\n\u001b[1;31mSyntaxError\u001b[0m\u001b[1;31m:\u001b[0m invalid syntax\n"
     ]
    }
   ],
   "source": [
    "def Evenorodd(s,r):\n",
    "    for i in range (0,11):\n",
    "        if s%2==0:\n",
    "            return its an even number\n",
    "        else:\n",
    "            return its an odd number\n",
    "    "
   ]
  },
  {
   "cell_type": "code",
   "execution_count": 71,
   "id": "b2e95de9",
   "metadata": {},
   "outputs": [
    {
     "ename": "NameError",
     "evalue": "name 'e' is not defined",
     "output_type": "error",
     "traceback": [
      "\u001b[1;31m---------------------------------------------------------------------------\u001b[0m",
      "\u001b[1;31mNameError\u001b[0m                                 Traceback (most recent call last)",
      "Cell \u001b[1;32mIn[71], line 4\u001b[0m\n\u001b[0;32m      2\u001b[0m     even,odd\u001b[38;5;241m=\u001b[39m[],[]\n\u001b[0;32m      3\u001b[0m     s,e\u001b[38;5;241m=\u001b[39m\u001b[38;5;28mmin\u001b[39m(a,b),\u001b[38;5;28mmax\u001b[39m(a,b)\u001b[38;5;241m+\u001b[39m\u001b[38;5;241m1\u001b[39m\n\u001b[1;32m----> 4\u001b[0m \u001b[38;5;28;01mfor\u001b[39;00m num \u001b[38;5;129;01min\u001b[39;00m \u001b[38;5;28mrange\u001b[39m(s,e):\n\u001b[0;32m      5\u001b[0m     \u001b[38;5;28;01mif\u001b[39;00m num\u001b[38;5;241m%\u001b[39m\u001b[38;5;241m2\u001b[39m\u001b[38;5;241m==\u001b[39m\u001b[38;5;241m0\u001b[39m:\n\u001b[0;32m      6\u001b[0m         even\u001b[38;5;241m.\u001b[39mappend(num)\n",
      "\u001b[1;31mNameError\u001b[0m: name 'e' is not defined"
     ]
    }
   ],
   "source": [
    "def fooEvenorodd(a,b):\n",
    "    even,odd=[],[]\n",
    "    s,e=min(a,b),max(a,b)+1\n",
    "for num in range(s,e):\n",
    "    if num%2==0:\n",
    "        even.append(num)\n",
    "    else:\n",
    "        odd.append(num)\n",
    "return even,odd        \n"
   ]
  },
  {
   "cell_type": "code",
   "execution_count": null,
   "id": "077b24f4",
   "metadata": {},
   "outputs": [],
   "source": [
    "# write a function which takes a string of lower ,upper,special and num anr return a string "
   ]
  },
  {
   "cell_type": "code",
   "execution_count": 73,
   "id": "82b62df8",
   "metadata": {},
   "outputs": [],
   "source": [
    "s=\"@Sam♥Honey♦1559\""
   ]
  },
  {
   "cell_type": "code",
   "execution_count": 75,
   "id": "84d629c4",
   "metadata": {},
   "outputs": [],
   "source": [
    "def foorearrngestring(s):\n",
    "    x=list(s)\n",
    "    #sc,n,u,l='','','',''\n",
    "    a,b,c,d=[],[],[],[]\n",
    "    for char in x:\n",
    "        if char.isnumeric():\n",
    "            b.append(char)\n",
    "        elif char.isupper():\n",
    "            c.append(char)\n",
    "        elif char.islower():\n",
    "            d.append(char)\n",
    "        else:\n",
    "            a.append(char)\n",
    "    a.sort(),b.sort() ,c.sort(),d.sort()\n",
    "    return ''.join(a)+''.join(b)+''.join(c)+''.join(d)\n"
   ]
  },
  {
   "cell_type": "code",
   "execution_count": 76,
   "id": "bde01e2e",
   "metadata": {},
   "outputs": [
    {
     "data": {
      "text/plain": [
       "'@♥♦1559HSaemnoy'"
      ]
     },
     "execution_count": 76,
     "metadata": {},
     "output_type": "execute_result"
    }
   ],
   "source": [
    "foorearrngestring(\"@Sam♥Honey♦1559\")"
   ]
  },
  {
   "cell_type": "code",
   "execution_count": 98,
   "id": "9ab65af7",
   "metadata": {},
   "outputs": [],
   "source": [
    "def foostrfind(s,char):\n",
    "    x=s\n",
    "    y=char\n",
    "    for i,j in enumerate(x):\n",
    "        if y==j:\n",
    "            return i\n",
    "    else:\n",
    "        return -1"
   ]
  },
  {
   "cell_type": "code",
   "execution_count": 100,
   "id": "3b72f420",
   "metadata": {},
   "outputs": [
    {
     "data": {
      "text/plain": [
       "-1"
      ]
     },
     "execution_count": 100,
     "metadata": {},
     "output_type": "execute_result"
    }
   ],
   "source": [
    "foostrfind('Hello','l')"
   ]
  },
  {
   "cell_type": "code",
   "execution_count": null,
   "id": "f229282a",
   "metadata": {},
   "outputs": [],
   "source": [
    "def foorfind(s,char):\n",
    "    x=s\n",
    "    y=char"
   ]
  },
  {
   "cell_type": "code",
   "execution_count": 95,
   "id": "cf2f7146",
   "metadata": {},
   "outputs": [
    {
     "data": {
      "text/plain": [
       "4"
      ]
     },
     "execution_count": 95,
     "metadata": {},
     "output_type": "execute_result"
    }
   ],
   "source": [
    "'holla'.rfind('a')"
   ]
  },
  {
   "cell_type": "code",
   "execution_count": 96,
   "id": "6d02a344",
   "metadata": {},
   "outputs": [
    {
     "data": {
      "text/plain": [
       "3"
      ]
     },
     "execution_count": 96,
     "metadata": {},
     "output_type": "execute_result"
    }
   ],
   "source": [
    "5-2"
   ]
  },
  {
   "cell_type": "code",
   "execution_count": null,
   "id": "0e18df8e",
   "metadata": {},
   "outputs": [],
   "source": []
  },
  {
   "cell_type": "code",
   "execution_count": null,
   "id": "2be03fe6",
   "metadata": {},
   "outputs": [],
   "source": []
  }
 ],
 "metadata": {
  "kernelspec": {
   "display_name": "Python 3 (ipykernel)",
   "language": "python",
   "name": "python3"
  },
  "language_info": {
   "codemirror_mode": {
    "name": "ipython",
    "version": 3
   },
   "file_extension": ".py",
   "mimetype": "text/x-python",
   "name": "python",
   "nbconvert_exporter": "python",
   "pygments_lexer": "ipython3",
   "version": "3.11.5"
  }
 },
 "nbformat": 4,
 "nbformat_minor": 5
}
